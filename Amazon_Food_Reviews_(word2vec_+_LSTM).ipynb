{
  "nbformat": 4,
  "nbformat_minor": 0,
  "metadata": {
    "colab": {
      "name": "Amazon Food Reviews (word2vec + LSTM).ipynb",
      "provenance": [],
      "collapsed_sections": [],
      "machine_shape": "hm",
      "include_colab_link": true
    },
    "kernelspec": {
      "name": "python3",
      "display_name": "Python 3"
    },
    "accelerator": "GPU"
  },
  "cells": [
    {
      "cell_type": "markdown",
      "metadata": {
        "id": "view-in-github",
        "colab_type": "text"
      },
      "source": [
        "<a href=\"https://colab.research.google.com/github/paddy-03/Sentiment-Analysis-Amazon-Fine-Food-Reviews/blob/master/Amazon_Food_Reviews_(word2vec_%2B_LSTM).ipynb\" target=\"_parent\"><img src=\"https://colab.research.google.com/assets/colab-badge.svg\" alt=\"Open In Colab\"/></a>"
      ]
    },
    {
      "cell_type": "code",
      "metadata": {
        "id": "_auPJS7Dm92B",
        "colab_type": "code",
        "outputId": "23bc1bd4-2e01-4861-a93c-70192e56919e",
        "colab": {
          "base_uri": "https://localhost:8080/",
          "height": 34
        }
      },
      "source": [
        "from google.colab import drive\n",
        "drive.mount('/content/drive') "
      ],
      "execution_count": 0,
      "outputs": [
        {
          "output_type": "stream",
          "text": [
            "Drive already mounted at /content/drive; to attempt to forcibly remount, call drive.mount(\"/content/drive\", force_remount=True).\n"
          ],
          "name": "stdout"
        }
      ]
    },
    {
      "cell_type": "code",
      "metadata": {
        "id": "qOYdD0iXnjZD",
        "colab_type": "code",
        "outputId": "ab8b1014-c357-4474-e154-c1dc0a625cbc",
        "colab": {
          "base_uri": "https://localhost:8080/",
          "height": 80
        }
      },
      "source": [
        "import warnings\n",
        "warnings.filterwarnings(\"ignore\")\n",
        "\n",
        "\n",
        "import math\n",
        "import sqlite3\n",
        "import pandas as pd\n",
        "import numpy as np\n",
        "import nltk\n",
        "import string\n",
        "import matplotlib.pyplot as plt\n",
        "import seaborn as sns\n",
        "from sklearn.feature_extraction.text import TfidfTransformer\n",
        "from sklearn.feature_extraction.text import TfidfVectorizer\n",
        "\n",
        "from sklearn.feature_extraction.text import CountVectorizer\n",
        "from sklearn.metrics import confusion_matrix\n",
        "from sklearn import metrics\n",
        "from sklearn.metrics import roc_curve, auc\n",
        "from nltk.stem.snowball import SnowballStemmer\n",
        "\n",
        "import re\n",
        "# Tutorial about Python regular expressions: https://pymotw.com/2/re/\n",
        "import string\n",
        "from nltk.corpus import stopwords\n",
        "from nltk.stem import PorterStemmer\n",
        "from nltk.stem.wordnet import WordNetLemmatizer\n",
        "\n",
        "from gensim.models import Word2Vec\n",
        "from gensim.models import KeyedVectors\n",
        "import pickle\n",
        "\n",
        "import keras\n",
        "from keras.preprocessing.text import text_to_word_sequence\n",
        "from keras.preprocessing.text import Tokenizer\n",
        "from keras.preprocessing.sequence import pad_sequences\n",
        "from keras.models import Sequential\n",
        "from keras.layers import BatchNormalization,Dense , Flatten ,Embedding,Input,LSTM\n",
        "from keras.models import Model\n",
        "from keras.initializers import Constant\n",
        "from keras.layers import ReLU\n",
        "from keras.layers import Dropout\n",
        "\n",
        "from tqdm import tqdm\n",
        "import os"
      ],
      "execution_count": 0,
      "outputs": [
        {
          "output_type": "stream",
          "text": [
            "Using TensorFlow backend.\n"
          ],
          "name": "stderr"
        },
        {
          "output_type": "display_data",
          "data": {
            "text/html": [
              "<p style=\"color: red;\">\n",
              "The default version of TensorFlow in Colab will soon switch to TensorFlow 2.x.<br>\n",
              "We recommend you <a href=\"https://www.tensorflow.org/guide/migrate\" target=\"_blank\">upgrade</a> now \n",
              "or ensure your notebook will continue to use TensorFlow 1.x via the <code>%tensorflow_version 1.x</code> magic:\n",
              "<a href=\"https://colab.research.google.com/notebooks/tensorflow_version.ipynb\" target=\"_blank\">more info</a>.</p>\n"
            ],
            "text/plain": [
              "<IPython.core.display.HTML object>"
            ]
          },
          "metadata": {
            "tags": []
          }
        }
      ]
    },
    {
      "cell_type": "code",
      "metadata": {
        "id": "ZgGFM8BaoFXf",
        "colab_type": "code",
        "colab": {}
      },
      "source": [
        "os.chdir('./drive/My Drive/amazon_food_reviews')"
      ],
      "execution_count": 0,
      "outputs": []
    },
    {
      "cell_type": "code",
      "metadata": {
        "id": "oJsG28FbxwYS",
        "colab_type": "code",
        "colab": {}
      },
      "source": [
        "sql = sqlite3.connect('database.sqlite')\n",
        "raw_data = pd.read_sql_query(\"\"\" SELECT * FROM Reviews \"\"\", sql)\n"
      ],
      "execution_count": 0,
      "outputs": []
    },
    {
      "cell_type": "code",
      "metadata": {
        "id": "pyoq-BEhyB6S",
        "colab_type": "code",
        "outputId": "76b9ea47-4050-4c54-a6ca-cadbb8700bd4",
        "colab": {
          "base_uri": "https://localhost:8080/",
          "height": 34
        }
      },
      "source": [
        "raw_data.shape"
      ],
      "execution_count": 0,
      "outputs": [
        {
          "output_type": "execute_result",
          "data": {
            "text/plain": [
              "(568454, 10)"
            ]
          },
          "metadata": {
            "tags": []
          },
          "execution_count": 5
        }
      ]
    },
    {
      "cell_type": "code",
      "metadata": {
        "id": "L5rN8zd2oJy_",
        "colab_type": "code",
        "outputId": "5302f37d-c44b-479e-e93f-066f57c4d37f",
        "colab": {
          "base_uri": "https://localhost:8080/",
          "height": 227
        }
      },
      "source": [
        "#filtering all data and rejecting the entries with score 3\n",
        "filtered_data = pd.read_sql_query(\"\"\" SELECT * FROM Reviews LIMIT 50000\"\"\", sql)\n",
        "\n",
        "#function to label the score, if 4 or 5 score is positive else negetive\n",
        "def partition(s):\n",
        "  if s>3:\n",
        "     return 1\n",
        "  return 0\n",
        "\n",
        "filtered_data['Score'] = filtered_data['Score'].map(partition)\n",
        "filtered_data.head(3)\n"
      ],
      "execution_count": 0,
      "outputs": [
        {
          "output_type": "execute_result",
          "data": {
            "text/html": [
              "<div>\n",
              "<style scoped>\n",
              "    .dataframe tbody tr th:only-of-type {\n",
              "        vertical-align: middle;\n",
              "    }\n",
              "\n",
              "    .dataframe tbody tr th {\n",
              "        vertical-align: top;\n",
              "    }\n",
              "\n",
              "    .dataframe thead th {\n",
              "        text-align: right;\n",
              "    }\n",
              "</style>\n",
              "<table border=\"1\" class=\"dataframe\">\n",
              "  <thead>\n",
              "    <tr style=\"text-align: right;\">\n",
              "      <th></th>\n",
              "      <th>Id</th>\n",
              "      <th>ProductId</th>\n",
              "      <th>UserId</th>\n",
              "      <th>ProfileName</th>\n",
              "      <th>HelpfulnessNumerator</th>\n",
              "      <th>HelpfulnessDenominator</th>\n",
              "      <th>Score</th>\n",
              "      <th>Time</th>\n",
              "      <th>Summary</th>\n",
              "      <th>Text</th>\n",
              "    </tr>\n",
              "  </thead>\n",
              "  <tbody>\n",
              "    <tr>\n",
              "      <th>0</th>\n",
              "      <td>1</td>\n",
              "      <td>B001E4KFG0</td>\n",
              "      <td>A3SGXH7AUHU8GW</td>\n",
              "      <td>delmartian</td>\n",
              "      <td>1</td>\n",
              "      <td>1</td>\n",
              "      <td>1</td>\n",
              "      <td>1303862400</td>\n",
              "      <td>Good Quality Dog Food</td>\n",
              "      <td>I have bought several of the Vitality canned d...</td>\n",
              "    </tr>\n",
              "    <tr>\n",
              "      <th>1</th>\n",
              "      <td>2</td>\n",
              "      <td>B00813GRG4</td>\n",
              "      <td>A1D87F6ZCVE5NK</td>\n",
              "      <td>dll pa</td>\n",
              "      <td>0</td>\n",
              "      <td>0</td>\n",
              "      <td>0</td>\n",
              "      <td>1346976000</td>\n",
              "      <td>Not as Advertised</td>\n",
              "      <td>Product arrived labeled as Jumbo Salted Peanut...</td>\n",
              "    </tr>\n",
              "    <tr>\n",
              "      <th>2</th>\n",
              "      <td>3</td>\n",
              "      <td>B000LQOCH0</td>\n",
              "      <td>ABXLMWJIXXAIN</td>\n",
              "      <td>Natalia Corres \"Natalia Corres\"</td>\n",
              "      <td>1</td>\n",
              "      <td>1</td>\n",
              "      <td>1</td>\n",
              "      <td>1219017600</td>\n",
              "      <td>\"Delight\" says it all</td>\n",
              "      <td>This is a confection that has been around a fe...</td>\n",
              "    </tr>\n",
              "  </tbody>\n",
              "</table>\n",
              "</div>"
            ],
            "text/plain": [
              "   Id  ...                                               Text\n",
              "0   1  ...  I have bought several of the Vitality canned d...\n",
              "1   2  ...  Product arrived labeled as Jumbo Salted Peanut...\n",
              "2   3  ...  This is a confection that has been around a fe...\n",
              "\n",
              "[3 rows x 10 columns]"
            ]
          },
          "metadata": {
            "tags": []
          },
          "execution_count": 6
        }
      ]
    },
    {
      "cell_type": "code",
      "metadata": {
        "id": "NRBzllQRsReA",
        "colab_type": "code",
        "outputId": "2a5f9c48-5114-4b08-8fbd-fd0ab147829a",
        "colab": {
          "base_uri": "https://localhost:8080/",
          "height": 34
        }
      },
      "source": [
        "filtered_data.shape"
      ],
      "execution_count": 0,
      "outputs": [
        {
          "output_type": "execute_result",
          "data": {
            "text/plain": [
              "(50000, 10)"
            ]
          },
          "metadata": {
            "tags": []
          },
          "execution_count": 7
        }
      ]
    },
    {
      "cell_type": "markdown",
      "metadata": {
        "colab_type": "text",
        "id": "F1Qkcv8QBqKt"
      },
      "source": [
        "## **Data Cleaning**"
      ]
    },
    {
      "cell_type": "code",
      "metadata": {
        "id": "iUMdo0UU0O5M",
        "colab_type": "code",
        "colab": {}
      },
      "source": [
        "display = pd.read_sql_query(\"\"\"\n",
        "SELECT UserId, ProductId, ProfileName, Time, Score, Text, COUNT(*)\n",
        "FROM Reviews\n",
        "GROUP BY UserId\n",
        "HAVING COUNT(*)>1\n",
        "\"\"\", sql)"
      ],
      "execution_count": 0,
      "outputs": []
    },
    {
      "cell_type": "code",
      "metadata": {
        "id": "iv2Bbwdb8GTR",
        "colab_type": "code",
        "outputId": "5cdd1907-001a-439c-8405-75788223379c",
        "colab": {
          "base_uri": "https://localhost:8080/",
          "height": 204
        }
      },
      "source": [
        "display.head()"
      ],
      "execution_count": 0,
      "outputs": [
        {
          "output_type": "execute_result",
          "data": {
            "text/html": [
              "<div>\n",
              "<style scoped>\n",
              "    .dataframe tbody tr th:only-of-type {\n",
              "        vertical-align: middle;\n",
              "    }\n",
              "\n",
              "    .dataframe tbody tr th {\n",
              "        vertical-align: top;\n",
              "    }\n",
              "\n",
              "    .dataframe thead th {\n",
              "        text-align: right;\n",
              "    }\n",
              "</style>\n",
              "<table border=\"1\" class=\"dataframe\">\n",
              "  <thead>\n",
              "    <tr style=\"text-align: right;\">\n",
              "      <th></th>\n",
              "      <th>UserId</th>\n",
              "      <th>ProductId</th>\n",
              "      <th>ProfileName</th>\n",
              "      <th>Time</th>\n",
              "      <th>Score</th>\n",
              "      <th>Text</th>\n",
              "      <th>COUNT(*)</th>\n",
              "    </tr>\n",
              "  </thead>\n",
              "  <tbody>\n",
              "    <tr>\n",
              "      <th>0</th>\n",
              "      <td>#oc-R115TNMSPFT9I7</td>\n",
              "      <td>B007Y59HVM</td>\n",
              "      <td>Breyton</td>\n",
              "      <td>1331510400</td>\n",
              "      <td>2</td>\n",
              "      <td>Overall its just OK when considering the price...</td>\n",
              "      <td>2</td>\n",
              "    </tr>\n",
              "    <tr>\n",
              "      <th>1</th>\n",
              "      <td>#oc-R11D9D7SHXIJB9</td>\n",
              "      <td>B005HG9ET0</td>\n",
              "      <td>Louis E. Emory \"hoppy\"</td>\n",
              "      <td>1342396800</td>\n",
              "      <td>5</td>\n",
              "      <td>My wife has recurring extreme muscle spasms, u...</td>\n",
              "      <td>3</td>\n",
              "    </tr>\n",
              "    <tr>\n",
              "      <th>2</th>\n",
              "      <td>#oc-R11DNU2NBKQ23Z</td>\n",
              "      <td>B007Y59HVM</td>\n",
              "      <td>Kim Cieszykowski</td>\n",
              "      <td>1348531200</td>\n",
              "      <td>1</td>\n",
              "      <td>This coffee is horrible and unfortunately not ...</td>\n",
              "      <td>2</td>\n",
              "    </tr>\n",
              "    <tr>\n",
              "      <th>3</th>\n",
              "      <td>#oc-R11O5J5ZVQE25C</td>\n",
              "      <td>B005HG9ET0</td>\n",
              "      <td>Penguin Chick</td>\n",
              "      <td>1346889600</td>\n",
              "      <td>5</td>\n",
              "      <td>This will be the bottle that you grab from the...</td>\n",
              "      <td>3</td>\n",
              "    </tr>\n",
              "    <tr>\n",
              "      <th>4</th>\n",
              "      <td>#oc-R12KPBODL2B5ZD</td>\n",
              "      <td>B007OSBE1U</td>\n",
              "      <td>Christopher P. Presta</td>\n",
              "      <td>1348617600</td>\n",
              "      <td>1</td>\n",
              "      <td>I didnt like this coffee. Instead of telling y...</td>\n",
              "      <td>2</td>\n",
              "    </tr>\n",
              "  </tbody>\n",
              "</table>\n",
              "</div>"
            ],
            "text/plain": [
              "               UserId  ... COUNT(*)\n",
              "0  #oc-R115TNMSPFT9I7  ...        2\n",
              "1  #oc-R11D9D7SHXIJB9  ...        3\n",
              "2  #oc-R11DNU2NBKQ23Z  ...        2\n",
              "3  #oc-R11O5J5ZVQE25C  ...        3\n",
              "4  #oc-R12KPBODL2B5ZD  ...        2\n",
              "\n",
              "[5 rows x 7 columns]"
            ]
          },
          "metadata": {
            "tags": []
          },
          "execution_count": 9
        }
      ]
    },
    {
      "cell_type": "code",
      "metadata": {
        "id": "EibNkBOV952N",
        "colab_type": "code",
        "outputId": "c2ba7901-4760-4a37-fef6-6886ad5ba78c",
        "colab": {
          "base_uri": "https://localhost:8080/",
          "height": 34
        }
      },
      "source": [
        "display.shape"
      ],
      "execution_count": 0,
      "outputs": [
        {
          "output_type": "execute_result",
          "data": {
            "text/plain": [
              "(80668, 7)"
            ]
          },
          "metadata": {
            "tags": []
          },
          "execution_count": 10
        }
      ]
    },
    {
      "cell_type": "code",
      "metadata": {
        "id": "wJpW6Oxi_VmT",
        "colab_type": "code",
        "outputId": "fabfcff0-5a4c-4acb-bbf6-eec4481e33b6",
        "colab": {
          "base_uri": "https://localhost:8080/",
          "height": 142
        }
      },
      "source": [
        "pd.read_sql_query(\"\"\"\n",
        "SELECT UserId, ProductId, ProfileName, Time, Score, Text\n",
        "FROM Reviews\n",
        "where UserId = '#oc-R11D9D7SHXIJB9'\n",
        "\n",
        "\"\"\", sql)"
      ],
      "execution_count": 0,
      "outputs": [
        {
          "output_type": "execute_result",
          "data": {
            "text/html": [
              "<div>\n",
              "<style scoped>\n",
              "    .dataframe tbody tr th:only-of-type {\n",
              "        vertical-align: middle;\n",
              "    }\n",
              "\n",
              "    .dataframe tbody tr th {\n",
              "        vertical-align: top;\n",
              "    }\n",
              "\n",
              "    .dataframe thead th {\n",
              "        text-align: right;\n",
              "    }\n",
              "</style>\n",
              "<table border=\"1\" class=\"dataframe\">\n",
              "  <thead>\n",
              "    <tr style=\"text-align: right;\">\n",
              "      <th></th>\n",
              "      <th>UserId</th>\n",
              "      <th>ProductId</th>\n",
              "      <th>ProfileName</th>\n",
              "      <th>Time</th>\n",
              "      <th>Score</th>\n",
              "      <th>Text</th>\n",
              "    </tr>\n",
              "  </thead>\n",
              "  <tbody>\n",
              "    <tr>\n",
              "      <th>0</th>\n",
              "      <td>#oc-R11D9D7SHXIJB9</td>\n",
              "      <td>B005HG9ESG</td>\n",
              "      <td>Louis E. Emory \"hoppy\"</td>\n",
              "      <td>1342396800</td>\n",
              "      <td>5</td>\n",
              "      <td>My wife has recurring extreme muscle spasms, u...</td>\n",
              "    </tr>\n",
              "    <tr>\n",
              "      <th>1</th>\n",
              "      <td>#oc-R11D9D7SHXIJB9</td>\n",
              "      <td>B005HG9ERW</td>\n",
              "      <td>Louis E. Emory \"hoppy\"</td>\n",
              "      <td>1342396800</td>\n",
              "      <td>5</td>\n",
              "      <td>My wife has recurring extreme muscle spasms, u...</td>\n",
              "    </tr>\n",
              "    <tr>\n",
              "      <th>2</th>\n",
              "      <td>#oc-R11D9D7SHXIJB9</td>\n",
              "      <td>B005HG9ET0</td>\n",
              "      <td>Louis E. Emory \"hoppy\"</td>\n",
              "      <td>1342396800</td>\n",
              "      <td>5</td>\n",
              "      <td>My wife has recurring extreme muscle spasms, u...</td>\n",
              "    </tr>\n",
              "  </tbody>\n",
              "</table>\n",
              "</div>"
            ],
            "text/plain": [
              "               UserId  ...                                               Text\n",
              "0  #oc-R11D9D7SHXIJB9  ...  My wife has recurring extreme muscle spasms, u...\n",
              "1  #oc-R11D9D7SHXIJB9  ...  My wife has recurring extreme muscle spasms, u...\n",
              "2  #oc-R11D9D7SHXIJB9  ...  My wife has recurring extreme muscle spasms, u...\n",
              "\n",
              "[3 rows x 6 columns]"
            ]
          },
          "metadata": {
            "tags": []
          },
          "execution_count": 11
        }
      ]
    },
    {
      "cell_type": "markdown",
      "metadata": {
        "id": "ebc_iZNhDDtp",
        "colab_type": "text"
      },
      "source": [
        "**Observation**\n",
        "\n",
        "Duplicate entries present, although the product ids differ but it's not possible to have multiple entries by a same user at a given timestamp. The different products are basically variations of a single product only, hence as the text too is same, the duplicate entries must be removed."
      ]
    },
    {
      "cell_type": "code",
      "metadata": {
        "id": "HFve2pcOACwM",
        "colab_type": "code",
        "outputId": "4353f65d-c675-482f-88b2-5996aaa5e3cd",
        "colab": {
          "base_uri": "https://localhost:8080/",
          "height": 34
        }
      },
      "source": [
        "filtered_data.drop_duplicates(subset={\"UserId\",\"ProfileName\",\"Time\",\"Text\"}, keep='first', inplace=False).shape"
      ],
      "execution_count": 0,
      "outputs": [
        {
          "output_type": "execute_result",
          "data": {
            "text/plain": [
              "(46268, 10)"
            ]
          },
          "metadata": {
            "tags": []
          },
          "execution_count": 12
        }
      ]
    },
    {
      "cell_type": "code",
      "metadata": {
        "id": "CErB8qK1EGaz",
        "colab_type": "code",
        "outputId": "4464d6b0-7cd0-431d-bebc-af7d39e5fc32",
        "colab": {
          "base_uri": "https://localhost:8080/",
          "height": 34
        }
      },
      "source": [
        "print('Data left: ',46268*100/50000,'%')"
      ],
      "execution_count": 0,
      "outputs": [
        {
          "output_type": "stream",
          "text": [
            "Data left:  92.536 %\n"
          ],
          "name": "stdout"
        }
      ]
    },
    {
      "cell_type": "code",
      "metadata": {
        "id": "gzdor674FfAN",
        "colab_type": "code",
        "colab": {}
      },
      "source": [
        "filtered_data = filtered_data.drop_duplicates(subset={\"UserId\",\"ProfileName\",\"Time\",\"Text\"}, keep='first', inplace=False)"
      ],
      "execution_count": 0,
      "outputs": []
    },
    {
      "cell_type": "code",
      "metadata": {
        "id": "KQKa8i6IF5Ff",
        "colab_type": "code",
        "outputId": "781a3f4b-913f-46f5-d54b-8045ffb37537",
        "colab": {
          "base_uri": "https://localhost:8080/",
          "height": 68
        }
      },
      "source": [
        "filtered_data['Score'].value_counts()"
      ],
      "execution_count": 0,
      "outputs": [
        {
          "output_type": "execute_result",
          "data": {
            "text/plain": [
              "1    35520\n",
              "0    10748\n",
              "Name: Score, dtype: int64"
            ]
          },
          "metadata": {
            "tags": []
          },
          "execution_count": 15
        }
      ]
    },
    {
      "cell_type": "markdown",
      "metadata": {
        "id": "nbjAbh8mIyIj",
        "colab_type": "text"
      },
      "source": [
        "## **Text Preprocessing**"
      ]
    },
    {
      "cell_type": "markdown",
      "metadata": {
        "id": "HmA1m9VVzpq2",
        "colab_type": "text"
      },
      "source": [
        "**Tasks to do:**\n",
        "\n",
        "1. Removing words with HTML tags\n",
        "2. Removing URLs\n",
        "3. Converting all words to lowercase\n",
        "4. Removing all special characters and punctuation marks\n",
        "5. Removing alpha-numeric words\n",
        "6. Removing Stopwords\n",
        "7. Stemming\n",
        "\n",
        "  "
      ]
    },
    {
      "cell_type": "code",
      "metadata": {
        "id": "yo2s3pXj3RoU",
        "colab_type": "code",
        "colab": {}
      },
      "source": [
        "def removeHTMLtags(s):\n",
        "  comp = re.compile('<.*>')\n",
        "  return re.sub(comp,'',s)"
      ],
      "execution_count": 0,
      "outputs": []
    },
    {
      "cell_type": "code",
      "metadata": {
        "id": "ZfX7LyDA4BP8",
        "colab_type": "code",
        "colab": {}
      },
      "source": [
        "def removeURLs(s):\n",
        "  return re.sub(r'http\\S+', '', s)"
      ],
      "execution_count": 0,
      "outputs": []
    },
    {
      "cell_type": "code",
      "metadata": {
        "id": "eNK7Dt6N4mbA",
        "colab_type": "code",
        "colab": {}
      },
      "source": [
        "def toLower(s):\n",
        "   return s.lower()"
      ],
      "execution_count": 0,
      "outputs": []
    },
    {
      "cell_type": "code",
      "metadata": {
        "id": "QDgXSBaX5bDW",
        "colab_type": "code",
        "outputId": "eadcf6ff-11df-4b2f-ce49-9b5745f70b38",
        "colab": {
          "base_uri": "https://localhost:8080/",
          "height": 34
        }
      },
      "source": [
        "def removeSpl(s):\n",
        "  return s.translate(str.maketrans('', '', string.punctuation))\n",
        "\n",
        "string.punctuation"
      ],
      "execution_count": 0,
      "outputs": [
        {
          "output_type": "execute_result",
          "data": {
            "text/plain": [
              "'!\"#$%&\\'()*+,-./:;<=>?@[\\\\]^_`{|}~'"
            ]
          },
          "metadata": {
            "tags": []
          },
          "execution_count": 19
        }
      ]
    },
    {
      "cell_type": "code",
      "metadata": {
        "id": "pAhJRJI-6qHC",
        "colab_type": "code",
        "colab": {}
      },
      "source": [
        "def removealphanum(s):\n",
        "   return re.sub(\"\\S*\\d\\S*\", \"\", s).strip()"
      ],
      "execution_count": 0,
      "outputs": []
    },
    {
      "cell_type": "code",
      "metadata": {
        "id": "yP9QDfoi7gun",
        "colab_type": "code",
        "outputId": "8616837e-eabb-486a-b28a-37aafa26f413",
        "colab": {
          "base_uri": "https://localhost:8080/",
          "height": 255
        }
      },
      "source": [
        "nltk.download('stopwords')\n",
        "stop = list(set(nltk.corpus.stopwords.words('english')))\n",
        "ctr = 0\n",
        "for i in stop:\n",
        "    print (\"'\" +i+\"'\"+', ',end='')\n",
        "    ctr=ctr+1\n",
        "    if(ctr==15):\n",
        "      print()\n",
        "      ctr=0"
      ],
      "execution_count": 0,
      "outputs": [
        {
          "output_type": "stream",
          "text": [
            "[nltk_data] Downloading package stopwords to /root/nltk_data...\n",
            "[nltk_data]   Package stopwords is already up-to-date!\n",
            "'ll', 'won't', 'wasn't', 'which', 'being', 'over', 'aren't', 'yourselves', 'him', 'before', 'as', 'doesn't', 'do', 'ma', 'her', \n",
            "'these', 'through', 'should', 're', 'shan't', 'them', 'd', 'm', 'against', 'this', 'some', 'you'll', 'down', 'isn', 'myself', \n",
            "'wouldn', 'mustn't', 'too', 'both', 'you', 'mightn', 'to', 'an', 'hers', 'more', 'haven't', 'he', 't', 'ourselves', 'from', \n",
            "'by', 'nor', 'our', 'no', 'she's', 'i', 'any', 'most', 'after', 'itself', 'himself', 'they', 'theirs', 'doing', 'under', \n",
            "'further', 'until', 'then', 'his', 'you'd', 'shan', 'a', 'about', 'wasn', 'here', 'your', 'there', 'in', 'or', 'same', \n",
            "'been', 'who', 'can', 'had', 'is', 'doesn', 'am', 'few', 'hadn', 'it's', 'are', 'off', 'she', 'wouldn't', 'shouldn', \n",
            "'ain', 'having', 'because', 'again', 'mightn't', 'not', 'so', 'have', 'above', 'up', 'of', 'during', 'each', 'between', 'why', \n",
            "'won', 'you're', 'that', 'if', 'shouldn't', 'own', 'did', 'mustn', 'very', 'my', 'where', 'what', 'those', 'now', 'herself', \n",
            "'will', 'me', 'all', 'than', 'when', 'couldn', 'only', 'it', 'with', 'needn', 'was', 'y', 'weren', 'should've', 'o', \n",
            "'didn', 'how', 'yours', 'whom', 'yourself', 'at', 'such', 'does', 'below', 's', 'into', 'the', 'once', 'didn't', 'has', \n",
            "'don't', 'and', 'hadn't', 've', 'we', 'but', 'aren', 'hasn't', 'other', 'its', 'their', 'don', 'were', 'isn't', 'ours', \n",
            "'that'll', 'for', 'be', 'while', 'just', 'haven', 'needn't', 'you've', 'weren't', 'hasn', 'themselves', 'out', 'on', 'couldn't', "
          ],
          "name": "stdout"
        }
      ]
    },
    {
      "cell_type": "code",
      "metadata": {
        "id": "6wKSgOMn85dc",
        "colab_type": "code",
        "colab": {}
      },
      "source": [
        "stop.remove('not')\n",
        "stop.remove('no')\n",
        "stop.remove('nor')"
      ],
      "execution_count": 0,
      "outputs": []
    },
    {
      "cell_type": "code",
      "metadata": {
        "id": "4lTW0vejP7tn",
        "colab_type": "code",
        "colab": {}
      },
      "source": [
        "stemmer = SnowballStemmer('english')\n",
        "#stemmer.stem('Happiness')"
      ],
      "execution_count": 0,
      "outputs": []
    },
    {
      "cell_type": "code",
      "metadata": {
        "id": "0cx0GgMa_YGI",
        "colab_type": "code",
        "outputId": "3bd84d26-0041-407e-8cb1-f8b7453a45b6",
        "colab": {
          "base_uri": "https://localhost:8080/",
          "height": 34
        }
      },
      "source": [
        "from tqdm import tqdm\n",
        "preprocessed_reviews = []\n",
        "labels = []\n",
        "w2v_doc = []\n",
        "# tqdm is for printing the status bar\n",
        "for sentance in tqdm(filtered_data['Text'].values):\n",
        "    sentance = removeHTMLtags(sentance)\n",
        "    sentance = removeURLs(sentance)\n",
        "    sentance = toLower(sentance)\n",
        "    sentance = removeSpl(sentance)\n",
        "    sentance = removealphanum(sentance)\n",
        "    w2v_doc.append(sentance.split())"
      ],
      "execution_count": 0,
      "outputs": [
        {
          "output_type": "stream",
          "text": [
            "100%|██████████| 46268/46268 [00:02<00:00, 17252.56it/s]\n"
          ],
          "name": "stderr"
        }
      ]
    },
    {
      "cell_type": "markdown",
      "metadata": {
        "id": "rkSDba4n-Dw2",
        "colab_type": "text"
      },
      "source": [
        "## **Train-Test Split**"
      ]
    },
    {
      "cell_type": "code",
      "metadata": {
        "id": "pe0ug_vWsM-a",
        "colab_type": "code",
        "outputId": "fc1edc6c-5fd5-42c4-94f3-2f148cefa75b",
        "colab": {
          "base_uri": "https://localhost:8080/",
          "height": 34
        }
      },
      "source": [
        "pos_reviews_w2v=[]\n",
        "neg_reviews_w2v=[]\n",
        "\n",
        "for i in tqdm(range(46072)):\n",
        "  if(filtered_data['Score'].values[i]==0):\n",
        "    neg_reviews_w2v.append(w2v_doc[i])\n",
        "\n",
        "  else:\n",
        "    pos_reviews_w2v.append(w2v_doc[i])"
      ],
      "execution_count": 0,
      "outputs": [
        {
          "output_type": "stream",
          "text": [
            "100%|██████████| 46072/46072 [00:00<00:00, 219238.85it/s]\n"
          ],
          "name": "stderr"
        }
      ]
    },
    {
      "cell_type": "code",
      "metadata": {
        "id": "O77chnXb9YVn",
        "colab_type": "code",
        "colab": {}
      },
      "source": [
        "from random import shuffle\n",
        "\n",
        "shuffle(pos_reviews_w2v)\n",
        "shuffle(neg_reviews_w2v)"
      ],
      "execution_count": 0,
      "outputs": []
    },
    {
      "cell_type": "code",
      "metadata": {
        "id": "1MuyVck6_3cv",
        "colab_type": "code",
        "colab": {}
      },
      "source": [
        "#choosing 20000 positive and 20000 negative documents\n",
        "\n",
        "data_subset_w2v = np.array(pos_reviews_w2v[:34500] + neg_reviews_w2v[:7500])\n",
        "labels = np.hstack((np.ones(34500),np.zeros(7500)))"
      ],
      "execution_count": 0,
      "outputs": []
    },
    {
      "cell_type": "code",
      "metadata": {
        "id": "YjQNl8mD-MCu",
        "colab_type": "code",
        "outputId": "e2b411a0-e04b-453b-df12-86ff0f9b3328",
        "colab": {
          "base_uri": "https://localhost:8080/",
          "height": 34
        }
      },
      "source": [
        "from sklearn.model_selection import train_test_split\n",
        "\n",
        "x_train_w2v, x_test_w2v, w2v_train, w2v_test = train_test_split(data_subset_w2v, labels, test_size = 0.25, random_state = 42)\n",
        "x_train_w2v = np.array(x_train_w2v)\n",
        "x_test_w2v = np.array(x_test_w2v)\n",
        "print(x_train_w2v.shape, w2v_train.shape, x_test_w2v.shape, w2v_test.shape)"
      ],
      "execution_count": 0,
      "outputs": [
        {
          "output_type": "stream",
          "text": [
            "(31500,) (31500,) (10500,) (10500,)\n"
          ],
          "name": "stdout"
        }
      ]
    },
    {
      "cell_type": "code",
      "metadata": {
        "id": "RJ6Yrnc09LEe",
        "colab_type": "code",
        "outputId": "e5e3746c-4bc7-4d8d-cab2-c9f7292da4c4",
        "colab": {
          "base_uri": "https://localhost:8080/",
          "height": 34
        }
      },
      "source": [
        "np.unique(w2v_train,return_counts=True)"
      ],
      "execution_count": 0,
      "outputs": [
        {
          "output_type": "execute_result",
          "data": {
            "text/plain": [
              "(array([0., 1.]), array([ 5610, 25890]))"
            ]
          },
          "metadata": {
            "tags": []
          },
          "execution_count": 29
        }
      ]
    },
    {
      "cell_type": "markdown",
      "metadata": {
        "colab_type": "text",
        "id": "339XTSA0rvVG"
      },
      "source": [
        "### Word2Vec"
      ]
    },
    {
      "cell_type": "code",
      "metadata": {
        "colab_type": "code",
        "outputId": "6424cc63-4e95-47a7-a0d5-1dd155172cea",
        "id": "PZxIp5T6ruWY",
        "colab": {
          "base_uri": "https://localhost:8080/",
          "height": 88
        }
      },
      "source": [
        "w2v_model=Word2Vec(data_subset_w2v,window=10,min_count=1,size=50, workers=4)\n",
        "w2v_model.train(data_subset_w2v,epochs=10,total_examples=len(data_subset_w2v))\n",
        "print(w2v_model.wv.most_similar('good'))\n",
        "print('='*50)\n",
        "print(w2v_model.wv.most_similar('bad'))"
      ],
      "execution_count": 0,
      "outputs": [
        {
          "output_type": "stream",
          "text": [
            "[('great', 0.772996187210083), ('terrific', 0.7463681101799011), ('decent', 0.7437984347343445), ('fantastic', 0.7179824113845825), ('bad', 0.6821128129959106), ('amazing', 0.6733249425888062), ('reasonable', 0.6697764992713928), ('nice', 0.6694865822792053), ('biscuity', 0.6572914719581604), ('fine', 0.6489811539649963)]\n",
            "==================================================\n",
            "[('funny', 0.6949297189712524), ('weird', 0.6858431100845337), ('good', 0.6821128129959106), ('nasty', 0.6735140085220337), ('awful', 0.6718595623970032), ('gross', 0.6526566743850708), ('horrible', 0.6334760189056396), ('disgusting', 0.6297018527984619), ('offensive', 0.6242376565933228), ('ok', 0.6203601360321045)]\n"
          ],
          "name": "stdout"
        }
      ]
    },
    {
      "cell_type": "code",
      "metadata": {
        "id": "rllCQPgaz3BE",
        "colab_type": "code",
        "outputId": "24756bf6-2357-4a5a-8609-1bba7c181b6e",
        "colab": {
          "base_uri": "https://localhost:8080/",
          "height": 238
        }
      },
      "source": [
        "w2v_model.wv['good']"
      ],
      "execution_count": 0,
      "outputs": [
        {
          "output_type": "execute_result",
          "data": {
            "text/plain": [
              "array([-4.1333857e-01,  7.5791717e-02, -5.9959769e-01,  4.0416355e+00,\n",
              "        2.5645525e+00, -2.9963005e+00,  3.4601398e+00, -1.6468239e+00,\n",
              "        1.4670614e+00, -2.3260996e+00, -1.4364648e+00, -1.5926144e+00,\n",
              "       -2.2471988e+00, -8.8085407e-01,  3.9961944e+00, -1.5639321e+00,\n",
              "       -9.0524995e-01,  6.1657727e-01, -8.3836132e-01, -2.4887557e-01,\n",
              "        1.5751072e+00,  2.9418542e+00, -7.9035759e-01, -2.6491981e+00,\n",
              "       -8.5300982e-01, -4.0585575e+00,  2.0200922e+00,  1.8073987e+00,\n",
              "        2.2471018e+00,  1.3371334e+00, -1.7829807e-01, -1.4839355e+00,\n",
              "        3.8258195e+00,  1.1718938e+00,  2.4355638e+00, -1.4830320e+00,\n",
              "        3.5959423e+00, -6.7586869e-01,  5.3028688e+00, -1.7709090e+00,\n",
              "        1.4021497e+00, -1.3217939e+00, -4.4466329e-01, -2.2640262e+00,\n",
              "       -4.6017976e+00,  4.9794436e+00,  1.6029589e+00, -3.4108013e-03,\n",
              "       -2.1032972e+00, -3.5542114e+00], dtype=float32)"
            ]
          },
          "metadata": {
            "tags": []
          },
          "execution_count": 31
        }
      ]
    },
    {
      "cell_type": "code",
      "metadata": {
        "id": "cLlXLhjNnLRV",
        "colab_type": "code",
        "outputId": "1d28ecf2-9685-49bf-c0ca-32dc8f82658b",
        "colab": {
          "base_uri": "https://localhost:8080/",
          "height": 71
        }
      },
      "source": [
        "w2v_words = list(w2v_model.wv.vocab)\n",
        "print(\"number of words that occured minimum 1 time \",len(w2v_words))\n",
        "print(\"sample words \", w2v_words[60:100])"
      ],
      "execution_count": 0,
      "outputs": [
        {
          "output_type": "stream",
          "text": [
            "number of words that occured minimum 1 time  49742\n",
            "sample words  ['spoon', 'used', 'measure', 'tastes', 'like', 'very', 'tart', 'wonderful', 'cherry', 'pie', 'despite', 'fact', 'there', 'no', 'added', 'sugar', 'im', 'hoping', 'will', 'help', 'with', 'arthritis', 'we', 'bought', 'these', 'chips', 'at', 'sandwich', 'shop', 'sonoma', 'while', 'on', 'vacation', 'wasnt', 'sure', 'what', 'expect', 'package', 'first', 'bite']\n"
          ],
          "name": "stdout"
        }
      ]
    },
    {
      "cell_type": "code",
      "metadata": {
        "id": "WJ0AsyFk4ny-",
        "colab_type": "code",
        "outputId": "f6c14325-60b6-44d6-a115-758c872d030b",
        "colab": {
          "base_uri": "https://localhost:8080/",
          "height": 34
        }
      },
      "source": [
        "x_train_w2v.shape"
      ],
      "execution_count": 0,
      "outputs": [
        {
          "output_type": "execute_result",
          "data": {
            "text/plain": [
              "(31500,)"
            ]
          },
          "metadata": {
            "tags": []
          },
          "execution_count": 33
        }
      ]
    },
    {
      "cell_type": "code",
      "metadata": {
        "id": "4ZU0NCYc-pD7",
        "colab_type": "code",
        "colab": {}
      },
      "source": [
        "tok = Tokenizer()\n",
        "tok.fit_on_texts(data_subset_w2v)\n",
        "encd_rev_train = tok.texts_to_sequences(x_train_w2v)\n",
        "encd_rev_test = tok.texts_to_sequences(x_test_w2v)"
      ],
      "execution_count": 0,
      "outputs": []
    },
    {
      "cell_type": "code",
      "metadata": {
        "id": "qhaueXpwILcX",
        "colab_type": "code",
        "outputId": "fb20c74b-71b5-498d-d281-ef3f986d2247",
        "colab": {
          "base_uri": "https://localhost:8080/",
          "height": 34
        }
      },
      "source": [
        "maxi = 0\n",
        "for i in data_subset_w2v:\n",
        "  if len(i)>maxi:\n",
        "    maxi = len(i)\n",
        "\n",
        "maxi"
      ],
      "execution_count": 0,
      "outputs": [
        {
          "output_type": "execute_result",
          "data": {
            "text/plain": [
              "621"
            ]
          },
          "metadata": {
            "tags": []
          },
          "execution_count": 35
        }
      ]
    },
    {
      "cell_type": "code",
      "metadata": {
        "id": "TJFrVMF6IexD",
        "colab_type": "code",
        "colab": {}
      },
      "source": [
        "max_rev_len= maxi  # max lenght of a review\n",
        "vocab_size = len(w2v_words)+1\n",
        "embed_dim= 50 # embedding dimension as choosen in word2vec constructor"
      ],
      "execution_count": 0,
      "outputs": []
    },
    {
      "cell_type": "code",
      "metadata": {
        "id": "D7cqn6kIJNLt",
        "colab_type": "code",
        "outputId": "1acb9f09-3cd2-4ca8-e2c6-058a86bb2598",
        "colab": {
          "base_uri": "https://localhost:8080/",
          "height": 34
        }
      },
      "source": [
        "pad_rev_train = pad_sequences(encd_rev_train, maxlen=max_rev_len, padding='pre')\n",
        "pad_rev_test = pad_sequences(encd_rev_test, maxlen=max_rev_len, padding='pre')\n",
        "pad_rev_train.shape "
      ],
      "execution_count": 0,
      "outputs": [
        {
          "output_type": "execute_result",
          "data": {
            "text/plain": [
              "(31500, 621)"
            ]
          },
          "metadata": {
            "tags": []
          },
          "execution_count": 37
        }
      ]
    },
    {
      "cell_type": "code",
      "metadata": {
        "id": "sYzgbNu7JsXc",
        "colab_type": "code",
        "colab": {}
      },
      "source": [
        "embed_matrix=np.zeros(shape=(vocab_size,embed_dim))\n",
        "for word,i in tok.word_index.items():\n",
        "  embed_vector=w2v_model.wv[word]\n",
        "  if embed_vector is not None:  # word is in the vocabulary learned by the w2v model\n",
        "    embed_matrix[i]=embed_vector\n",
        "  # if word is not found then embed_vector corressponding to that vector will stay zero."
      ],
      "execution_count": 0,
      "outputs": []
    },
    {
      "cell_type": "code",
      "metadata": {
        "id": "a4E_H0H9NJq8",
        "colab_type": "code",
        "outputId": "9ac00580-6424-485f-90b9-dfd688ec58aa",
        "colab": {
          "base_uri": "https://localhost:8080/",
          "height": 34
        }
      },
      "source": [
        "embed_matrix.shape"
      ],
      "execution_count": 0,
      "outputs": [
        {
          "output_type": "execute_result",
          "data": {
            "text/plain": [
              "(49743, 50)"
            ]
          },
          "metadata": {
            "tags": []
          },
          "execution_count": 39
        }
      ]
    },
    {
      "cell_type": "code",
      "metadata": {
        "id": "J2yFku5yCd5L",
        "colab_type": "code",
        "colab": {}
      },
      "source": [
        "model=Sequential()\n",
        "model.add(Embedding(input_dim=vocab_size,output_dim=embed_dim,input_length=max_rev_len,embeddings_initializer=Constant(embed_matrix)))\n",
        "model.add(BatchNormalization())\n",
        "model.add(LSTM(100,return_sequences=True))\n",
        "model.add(Dropout(0.2))\n",
        "model.add(LSTM(100,return_sequences=False))\n",
        "#model.add(Flatten())\n",
        "#model.add(Dense(1024,activation='relu'))\n",
        "model.add(Dropout(0.2))\n",
        "model.add(Dense(1,activation='sigmoid'))  # sigmod for bin. classification."
      ],
      "execution_count": 0,
      "outputs": []
    },
    {
      "cell_type": "code",
      "metadata": {
        "id": "BZqxcviNCygD",
        "colab_type": "code",
        "outputId": "38899137-71ce-4d1d-b5e3-539b9f4762c2",
        "colab": {
          "base_uri": "https://localhost:8080/",
          "height": 391
        }
      },
      "source": [
        "model.summary()"
      ],
      "execution_count": 0,
      "outputs": [
        {
          "output_type": "stream",
          "text": [
            "Model: \"sequential_4\"\n",
            "_________________________________________________________________\n",
            "Layer (type)                 Output Shape              Param #   \n",
            "=================================================================\n",
            "embedding_4 (Embedding)      (None, 621, 50)           2487150   \n",
            "_________________________________________________________________\n",
            "batch_normalization_1 (Batch (None, 621, 50)           200       \n",
            "_________________________________________________________________\n",
            "lstm_1 (LSTM)                (None, 621, 100)          60400     \n",
            "_________________________________________________________________\n",
            "dropout_2 (Dropout)          (None, 621, 100)          0         \n",
            "_________________________________________________________________\n",
            "lstm_2 (LSTM)                (None, 100)               80400     \n",
            "_________________________________________________________________\n",
            "dropout_3 (Dropout)          (None, 100)               0         \n",
            "_________________________________________________________________\n",
            "dense_5 (Dense)              (None, 1)                 101       \n",
            "=================================================================\n",
            "Total params: 2,628,251\n",
            "Trainable params: 2,628,151\n",
            "Non-trainable params: 100\n",
            "_________________________________________________________________\n"
          ],
          "name": "stdout"
        }
      ]
    },
    {
      "cell_type": "code",
      "metadata": {
        "id": "qk0EfNJ-DBLm",
        "colab_type": "code",
        "colab": {}
      },
      "source": [
        "model.compile(optimizer=keras.optimizers.RMSprop(lr=1e-3),loss='binary_crossentropy',metrics=['accuracy'])"
      ],
      "execution_count": 0,
      "outputs": []
    },
    {
      "cell_type": "code",
      "metadata": {
        "id": "P_lTJf0kDIZr",
        "colab_type": "code",
        "colab": {}
      },
      "source": [
        "epochs=5\n",
        "batch_size=100"
      ],
      "execution_count": 0,
      "outputs": []
    },
    {
      "cell_type": "code",
      "metadata": {
        "id": "1pFAmFz3DSKJ",
        "colab_type": "code",
        "outputId": "542fd937-fcbf-4d51-8dec-0fd76db20236",
        "colab": {
          "base_uri": "https://localhost:8080/",
          "height": 221
        }
      },
      "source": [
        "model.fit(pad_rev_train,w2v_train,epochs=epochs,batch_size=batch_size,validation_data=(pad_rev_test,w2v_test))"
      ],
      "execution_count": 0,
      "outputs": [
        {
          "output_type": "stream",
          "text": [
            "Train on 31500 samples, validate on 10500 samples\n",
            "Epoch 1/5\n",
            "31500/31500 [==============================] - 788s 25ms/step - loss: 0.3487 - acc: 0.8489 - val_loss: 0.3127 - val_acc: 0.8664\n",
            "Epoch 2/5\n",
            "31500/31500 [==============================] - 787s 25ms/step - loss: 0.2773 - acc: 0.8810 - val_loss: 0.2719 - val_acc: 0.8860\n",
            "Epoch 3/5\n",
            "31500/31500 [==============================] - 775s 25ms/step - loss: 0.2359 - acc: 0.9040 - val_loss: 0.2580 - val_acc: 0.8910\n",
            "Epoch 4/5\n",
            "31500/31500 [==============================] - 772s 24ms/step - loss: 0.2059 - acc: 0.9163 - val_loss: 0.2581 - val_acc: 0.8904\n",
            "Epoch 5/5\n",
            "31500/31500 [==============================] - 776s 25ms/step - loss: 0.1819 - acc: 0.9269 - val_loss: 0.2662 - val_acc: 0.8981\n"
          ],
          "name": "stdout"
        },
        {
          "output_type": "execute_result",
          "data": {
            "text/plain": [
              "<keras.callbacks.History at 0x7f65a4f3ea58>"
            ]
          },
          "metadata": {
            "tags": []
          },
          "execution_count": 51
        }
      ]
    },
    {
      "cell_type": "code",
      "metadata": {
        "id": "2fdy6cSSm0sZ",
        "colab_type": "code",
        "colab": {}
      },
      "source": [
        "model.save('amzlstm1.h5')"
      ],
      "execution_count": 0,
      "outputs": []
    },
    {
      "cell_type": "code",
      "metadata": {
        "id": "9E8-UgdDZXf0",
        "colab_type": "code",
        "colab": {}
      },
      "source": [
        "w2v_pred = model.predict_classes(pad_rev_test)"
      ],
      "execution_count": 0,
      "outputs": []
    },
    {
      "cell_type": "code",
      "metadata": {
        "id": "jTdM3jBCo7de",
        "colab_type": "code",
        "outputId": "450265dc-6062-43bf-f036-aaa8e9891a5f",
        "colab": {
          "base_uri": "https://localhost:8080/",
          "height": 136
        }
      },
      "source": [
        "w2v_pred"
      ],
      "execution_count": 0,
      "outputs": [
        {
          "output_type": "execute_result",
          "data": {
            "text/plain": [
              "array([[1],\n",
              "       [0],\n",
              "       [0],\n",
              "       ...,\n",
              "       [0],\n",
              "       [1],\n",
              "       [1]], dtype=int32)"
            ]
          },
          "metadata": {
            "tags": []
          },
          "execution_count": 53
        }
      ]
    },
    {
      "cell_type": "code",
      "metadata": {
        "id": "TQRf6D1ihL-_",
        "colab_type": "code",
        "outputId": "4fcff69d-fc4c-4a3b-ba1a-c3317f32264f",
        "colab": {
          "base_uri": "https://localhost:8080/",
          "height": 295
        }
      },
      "source": [
        "import seaborn as sns\n",
        "# Confusion Matrix\n",
        "cm = confusion_matrix(w2v_test, w2v_pred)\n",
        "class_label = [\"negative\", \"positive\"]\n",
        "df_cm = pd.DataFrame(cm, index = class_label, columns = class_label)\n",
        "sns.heatmap(df_cm, annot = True, fmt = \"d\")\n",
        "plt.title(\"Confusion Matrix\")\n",
        "plt.xlabel(\"Predicted Label\")\n",
        "plt.ylabel(\"Actual Label\")\n",
        "plt.show()"
      ],
      "execution_count": 0,
      "outputs": [
        {
          "output_type": "display_data",
          "data": {
            "image/png": "[encoded data removed]",
            "text/plain": [
              "<Figure size 432x288 with 2 Axes>"
            ]
          },
          "metadata": {
            "tags": []
          }
        }
      ]
    },
    {
      "cell_type": "code",
      "metadata": {
        "id": "tWMz_yGarCE8",
        "colab_type": "code",
        "outputId": "31e41c5d-a986-4ce9-d129-50f0e8c84f89",
        "colab": {
          "base_uri": "https://localhost:8080/",
          "height": 170
        }
      },
      "source": [
        "from sklearn.metrics import classification_report\n",
        "print(classification_report(w2v_test, w2v_pred))"
      ],
      "execution_count": 0,
      "outputs": [
        {
          "output_type": "stream",
          "text": [
            "              precision    recall  f1-score   support\n",
            "\n",
            "         0.0       0.79      0.59      0.67      1890\n",
            "         1.0       0.91      0.97      0.94      8610\n",
            "\n",
            "    accuracy                           0.90     10500\n",
            "   macro avg       0.85      0.78      0.81     10500\n",
            "weighted avg       0.89      0.90      0.89     10500\n",
            "\n"
          ],
          "name": "stdout"
        }
      ]
    },
    {
      "cell_type": "code",
      "metadata": {
        "id": "0KbwQlWOrM9F",
        "colab_type": "code",
        "colab": {}
      },
      "source": [
        "w2v_conf = model.predict(pad_rev_test)"
      ],
      "execution_count": 0,
      "outputs": []
    },
    {
      "cell_type": "code",
      "metadata": {
        "id": "iupIndgPsdtL",
        "colab_type": "code",
        "outputId": "4702fca1-8f94-48f5-9d0b-74d620b98b28",
        "colab": {
          "base_uri": "https://localhost:8080/",
          "height": 34
        }
      },
      "source": [
        "from sklearn.metrics import roc_auc_score\n",
        "fpr, tpr, threshold = roc_curve(w2v_test,w2v_conf,pos_label=1)\n",
        "roc_auc = auc(fpr, tpr)\n",
        "roc_auc"
      ],
      "execution_count": 0,
      "outputs": [
        {
          "output_type": "execute_result",
          "data": {
            "text/plain": [
              "0.9258933564392333"
            ]
          },
          "metadata": {
            "tags": []
          },
          "execution_count": 57
        }
      ]
    },
    {
      "cell_type": "code",
      "metadata": {
        "id": "DTWsyYAYs4h6",
        "colab_type": "code",
        "outputId": "c57f228d-0b75-400e-8f1c-0827864a9229",
        "colab": {
          "base_uri": "https://localhost:8080/",
          "height": 295
        }
      },
      "source": [
        "plt.figure(figsize=(6,4))\n",
        "plt.title('Receiver Operating Characteristic')\n",
        "plt.plot(fpr, tpr, 'b', label = 'AUC = %0.2f' % roc_auc)\n",
        "plt.legend(loc = 'lower right')\n",
        "plt.plot([0, 1], [0, 1],'r--')\n",
        "plt.xlim([0, 1])\n",
        "plt.ylim([0, 1])\n",
        "plt.ylabel('True Positive Rate')\n",
        "plt.xlabel('False Positive Rate')\n",
        "plt.show()"
      ],
      "execution_count": 0,
      "outputs": [
        {
          "output_type": "display_data",
          "data": {
            "image/png": "[encoded data removed]",
            "text/plain": [
              "<Figure size 432x288 with 1 Axes>"
            ]
          },
          "metadata": {
            "tags": []
          }
        }
      ]
    }
  ]
}
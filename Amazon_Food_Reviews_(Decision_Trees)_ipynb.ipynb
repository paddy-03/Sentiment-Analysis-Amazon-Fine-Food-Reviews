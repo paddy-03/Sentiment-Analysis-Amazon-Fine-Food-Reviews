{
  "nbformat": 4,
  "nbformat_minor": 0,
  "metadata": {
    "colab": {
      "name": "Amazon Food Reviews (Decision Trees).ipynb.ipynb",
      "provenance": [],
      "collapsed_sections": [],
      "include_colab_link": true
    },
    "kernelspec": {
      "name": "python3",
      "display_name": "Python 3"
    },
    "accelerator": "GPU"
  },
  "cells": [
    {
      "cell_type": "markdown",
      "metadata": {
        "id": "view-in-github",
        "colab_type": "text"
      },
      "source": [
        "<a href=\"https://colab.research.google.com/github/paddy-03/Sentiment-Analysis-Amazon-Fine-Food-Reviews/blob/master/Amazon_Food_Reviews_(Decision_Trees)_ipynb.ipynb\" target=\"_parent\"><img src=\"https://colab.research.google.com/assets/colab-badge.svg\" alt=\"Open In Colab\"/></a>"
      ]
    },
    {
      "cell_type": "code",
      "metadata": {
        "id": "AQ-uPyudizTP",
        "colab_type": "code",
        "outputId": "85a7ac74-93a7-4306-e64e-057ee0c76023",
        "colab": {
          "base_uri": "https://localhost:8080/",
          "height": 122
        }
      },
      "source": [
        "from google.colab import drive\n",
        "drive.mount('/content/drive') "
      ],
      "execution_count": 1,
      "outputs": [
        {
          "output_type": "stream",
          "text": [
            "Go to this URL in a browser: https://accounts.google.com/o/oauth2/auth?client_id=947318989803-6bn6qk8qdgf4n4g3pfee6491hc0brc4i.apps.googleusercontent.com&redirect_uri=urn%3aietf%3awg%3aoauth%3a2.0%3aoob&response_type=code&scope=email%20https%3a%2f%2fwww.googleapis.com%2fauth%2fdocs.test%20https%3a%2f%2fwww.googleapis.com%2fauth%2fdrive%20https%3a%2f%2fwww.googleapis.com%2fauth%2fdrive.photos.readonly%20https%3a%2f%2fwww.googleapis.com%2fauth%2fpeopleapi.readonly\n",
            "\n",
            "Enter your authorization code:\n",
            "··········\n",
            "Mounted at /content/drive\n"
          ],
          "name": "stdout"
        }
      ]
    },
    {
      "cell_type": "code",
      "metadata": {
        "id": "wIpDMhD7jMjG",
        "colab_type": "code",
        "colab": {}
      },
      "source": [
        "import os\n",
        "os.chdir('./drive/My Drive/amazon_food_reviews')"
      ],
      "execution_count": 0,
      "outputs": []
    },
    {
      "cell_type": "code",
      "metadata": {
        "id": "yo_zM3-3jnkV",
        "colab_type": "code",
        "outputId": "903385cf-7b32-49f2-b206-274db18d09c3",
        "colab": {
          "base_uri": "https://localhost:8080/",
          "height": 292
        }
      },
      "source": [
        "!pip install numpy==1.16.1\n",
        "import numpy as np\n",
        "import pandas as pd\n",
        "import matplotlib.pyplot as plt"
      ],
      "execution_count": 3,
      "outputs": [
        {
          "output_type": "stream",
          "text": [
            "Collecting numpy==1.16.1\n",
            "\u001b[?25l  Downloading https://files.pythonhosted.org/packages/f5/bf/4981bcbee43934f0adb8f764a1e70ab0ee5a448f6505bd04a87a2fda2a8b/numpy-1.16.1-cp36-cp36m-manylinux1_x86_64.whl (17.3MB)\n",
            "\u001b[K     |████████████████████████████████| 17.3MB 36.3MB/s \n",
            "\u001b[31mERROR: datascience 0.10.6 has requirement folium==0.2.1, but you'll have folium 0.8.3 which is incompatible.\u001b[0m\n",
            "\u001b[31mERROR: albumentations 0.1.12 has requirement imgaug<0.2.7,>=0.2.5, but you'll have imgaug 0.2.9 which is incompatible.\u001b[0m\n",
            "\u001b[?25hInstalling collected packages: numpy\n",
            "  Found existing installation: numpy 1.17.4\n",
            "    Uninstalling numpy-1.17.4:\n",
            "      Successfully uninstalled numpy-1.17.4\n",
            "Successfully installed numpy-1.16.1\n"
          ],
          "name": "stdout"
        },
        {
          "output_type": "display_data",
          "data": {
            "application/vnd.colab-display-data+json": {
              "pip_warning": {
                "packages": [
                  "numpy"
                ]
              }
            }
          },
          "metadata": {
            "tags": []
          }
        }
      ]
    },
    {
      "cell_type": "code",
      "metadata": {
        "id": "w-Lzi3RIjttT",
        "colab_type": "code",
        "colab": {}
      },
      "source": [
        "from sklearn.model_selection import train_test_split\n",
        "from sklearn.model_selection import cross_val_score\n",
        "from sklearn.metrics import roc_auc_score\n",
        "from sklearn.model_selection import GridSearchCV, RandomizedSearchCV\n",
        "from sklearn import tree\n",
        "from sklearn.metrics import confusion_matrix, accuracy_score\n",
        "from tqdm import tqdm"
      ],
      "execution_count": 0,
      "outputs": []
    },
    {
      "cell_type": "code",
      "metadata": {
        "id": "IJK7sJPWkJf0",
        "colab_type": "code",
        "colab": {}
      },
      "source": [
        "x_train_cv = np.load('x_train_cv.npy')\n",
        "x_test_cv =  np.load('x_test_cv.npy')\n",
        "x_train_tfidf = np.load('x_train_tfidf.npy')\n",
        "x_test_tfidf = np.load('x_test_tfidf.npy')\n",
        "x_train_w2v_av = np.load('x_train_w2v_av.npy')\n",
        "x_test_w2v_av = np.load('x_test_w2v_av.npy')\n",
        "x_train_w2v_tf = np.load('x_train_w2v_tf.npy')\n",
        "x_test_w2v_tf = np.load('x_test_w2v_tf.npy')\n",
        "y_train = np.load('y_train.npy')\n",
        "y_test = np.load('y_test.npy')"
      ],
      "execution_count": 0,
      "outputs": []
    },
    {
      "cell_type": "code",
      "metadata": {
        "id": "_0LHrxp97rU9",
        "colab_type": "code",
        "outputId": "9fe8af47-477c-4c0c-9557-eda921ed6d2e",
        "colab": {
          "base_uri": "https://localhost:8080/",
          "height": 34
        }
      },
      "source": [
        "np.unique(y_train, return_counts=True)"
      ],
      "execution_count": 6,
      "outputs": [
        {
          "output_type": "execute_result",
          "data": {
            "text/plain": [
              "(array([0., 1.]), array([3772, 3728]))"
            ]
          },
          "metadata": {
            "tags": []
          },
          "execution_count": 6
        }
      ]
    },
    {
      "cell_type": "markdown",
      "metadata": {
        "id": "jYsdnS75jkdF",
        "colab_type": "text"
      },
      "source": [
        "## BoW approach"
      ]
    },
    {
      "cell_type": "code",
      "metadata": {
        "id": "nKzD0fQVka0d",
        "colab_type": "code",
        "outputId": "e19a3230-f563-47b9-9acd-9ade5561696b",
        "colab": {
          "base_uri": "https://localhost:8080/",
          "height": 374
        }
      },
      "source": [
        "depths=[1,5,10,50,100,500,1000]\n",
        "min_samples=[2,5,10,15,100,500,1000]\n",
        "parameters=dict(max_depth=depths,min_samples_split=min_samples)\n",
        "clf=RandomizedSearchCV(tree.DecisionTreeClassifier(),parameters, scoring='roc_auc', refit=True, cv=3,return_train_score=True)\n",
        "\n",
        "clf.fit(x_train_cv, y_train)"
      ],
      "execution_count": 159,
      "outputs": [
        {
          "output_type": "execute_result",
          "data": {
            "text/plain": [
              "RandomizedSearchCV(cv=3, error_score='raise-deprecating',\n",
              "                   estimator=DecisionTreeClassifier(class_weight=None,\n",
              "                                                    criterion='gini',\n",
              "                                                    max_depth=None,\n",
              "                                                    max_features=None,\n",
              "                                                    max_leaf_nodes=None,\n",
              "                                                    min_impurity_decrease=0.0,\n",
              "                                                    min_impurity_split=None,\n",
              "                                                    min_samples_leaf=1,\n",
              "                                                    min_samples_split=2,\n",
              "                                                    min_weight_fraction_leaf=0.0,\n",
              "                                                    presort=False,\n",
              "                                                    random_state=None,\n",
              "                                                    splitter='best'),\n",
              "                   iid='warn', n_iter=10, n_jobs=None,\n",
              "                   param_distributions={'max_depth': [1, 5, 10, 50, 100, 500,\n",
              "                                                      1000],\n",
              "                                        'min_samples_split': [2, 5, 10, 15, 100,\n",
              "                                                              500, 1000]},\n",
              "                   pre_dispatch='2*n_jobs', random_state=None, refit=True,\n",
              "                   return_train_score=True, scoring='roc_auc', verbose=0)"
            ]
          },
          "metadata": {
            "tags": []
          },
          "execution_count": 159
        }
      ]
    },
    {
      "cell_type": "code",
      "metadata": {
        "id": "SSeGZzBZGbIa",
        "colab_type": "code",
        "colab": {}
      },
      "source": [
        "cv_error=clf.cv_results_['mean_test_score']\n",
        "train_error=clf.cv_results_['mean_train_score']\n",
        "pred=clf.predict(x_train_cv)\n",
        "score=roc_auc_score(y_train, pred)\n",
        "split=clf.best_params_['min_samples_split']\n",
        "depth=clf.best_params_['max_depth']"
      ],
      "execution_count": 0,
      "outputs": []
    },
    {
      "cell_type": "code",
      "metadata": {
        "id": "-5CT7lZPJA0f",
        "colab_type": "code",
        "colab": {
          "base_uri": "https://localhost:8080/",
          "height": 51
        },
        "outputId": "41304996-9155-4cbd-bc91-97edb92be9a7"
      },
      "source": [
        "print(\"Auc Score: \", score)\n",
        "print(\"Best min_samples_split:\", split,' ', \"Best max_depth:\", depth)"
      ],
      "execution_count": 161,
      "outputs": [
        {
          "output_type": "stream",
          "text": [
            "Auc Score:  0.7317347669068218\n",
            "Best min_samples_split: 1000   Best max_depth: 50\n"
          ],
          "name": "stdout"
        }
      ]
    },
    {
      "cell_type": "code",
      "metadata": {
        "id": "OVFubTUPJps_",
        "colab_type": "code",
        "colab": {
          "base_uri": "https://localhost:8080/",
          "height": 268
        },
        "outputId": "520b63ae-5940-42d0-baf9-f0a83b5d9745"
      },
      "source": [
        "plt.figure(figsize=(6,4))\n",
        "plt.plot(cv_error, label='CV')\n",
        "plt.plot(train_error, label='train')\n",
        "plt.legend()\n",
        "plt.show()"
      ],
      "execution_count": 179,
      "outputs": [
        {
          "output_type": "display_data",
          "data": {
            "image/png": "[encoded data removed]",
            "text/plain": [
              "<Figure size 432x288 with 1 Axes>"
            ]
          },
          "metadata": {
            "tags": []
          }
        }
      ]
    },
    {
      "cell_type": "code",
      "metadata": {
        "id": "P8NRYlf1mi0q",
        "colab_type": "code",
        "colab": {
          "base_uri": "https://localhost:8080/",
          "height": 119
        },
        "outputId": "1efd8654-cb5f-4ef4-8ae6-1623747797f2"
      },
      "source": [
        "model_cv=tree.DecisionTreeClassifier(max_depth=depth, min_samples_split=split)\n",
        "model_cv.fit(x_train_cv, y_train)"
      ],
      "execution_count": 163,
      "outputs": [
        {
          "output_type": "execute_result",
          "data": {
            "text/plain": [
              "DecisionTreeClassifier(class_weight=None, criterion='gini', max_depth=50,\n",
              "                       max_features=None, max_leaf_nodes=None,\n",
              "                       min_impurity_decrease=0.0, min_impurity_split=None,\n",
              "                       min_samples_leaf=1, min_samples_split=1000,\n",
              "                       min_weight_fraction_leaf=0.0, presort=False,\n",
              "                       random_state=None, splitter='best')"
            ]
          },
          "metadata": {
            "tags": []
          },
          "execution_count": 163
        }
      ]
    },
    {
      "cell_type": "code",
      "metadata": {
        "id": "2BFFDBScLeq0",
        "colab_type": "code",
        "colab": {
          "base_uri": "https://localhost:8080/",
          "height": 34
        },
        "outputId": "2ce9cd59-3747-493c-fc31-3660dd654b71"
      },
      "source": [
        "w_cv=model.feature_importances_\n",
        "y_pred_cv = model_cv.predict(x_test_cv)\n",
        "print(\"Test accuracy:\", accuracy_score(y_test, y_pred_cv))"
      ],
      "execution_count": 164,
      "outputs": [
        {
          "output_type": "stream",
          "text": [
            "Test accuracy: 0.7156\n"
          ],
          "name": "stdout"
        }
      ]
    },
    {
      "cell_type": "code",
      "metadata": {
        "id": "Wl5us3GW7S5H",
        "colab_type": "code",
        "colab": {}
      },
      "source": [
        "# plot confusion matrix to describe the performance of classifier.\n",
        "import seaborn as sns\n",
        "# Confusion Matrix\n",
        "cm = confusion_matrix(y_test, y_pred_cv)\n",
        "class_label = [\"negative\", \"positive\"]\n",
        "df_cm = pd.DataFrame(cm, index = class_label, columns = class_label)\n",
        "sns.heatmap(df_cm, annot = True, fmt = \"d\")\n",
        "plt.title(\"Confusion Matrix\")\n",
        "plt.xlabel(\"Predicted Label\")\n",
        "plt.ylabel(\"Actual Label\")\n",
        "plt.show()"
      ],
      "execution_count": 0,
      "outputs": []
    },
    {
      "cell_type": "code",
      "metadata": {
        "id": "I9_yhThXPa5O",
        "colab_type": "code",
        "colab": {
          "base_uri": "https://localhost:8080/",
          "height": 111
        },
        "outputId": "8d991567-1445-4285-99fb-fdabf61fe7c8"
      },
      "source": [
        "df_cm"
      ],
      "execution_count": 166,
      "outputs": [
        {
          "output_type": "execute_result",
          "data": {
            "text/html": [
              "<div>\n",
              "<style scoped>\n",
              "    .dataframe tbody tr th:only-of-type {\n",
              "        vertical-align: middle;\n",
              "    }\n",
              "\n",
              "    .dataframe tbody tr th {\n",
              "        vertical-align: top;\n",
              "    }\n",
              "\n",
              "    .dataframe thead th {\n",
              "        text-align: right;\n",
              "    }\n",
              "</style>\n",
              "<table border=\"1\" class=\"dataframe\">\n",
              "  <thead>\n",
              "    <tr style=\"text-align: right;\">\n",
              "      <th></th>\n",
              "      <th>negative</th>\n",
              "      <th>positive</th>\n",
              "    </tr>\n",
              "  </thead>\n",
              "  <tbody>\n",
              "    <tr>\n",
              "      <th>negative</th>\n",
              "      <td>828</td>\n",
              "      <td>400</td>\n",
              "    </tr>\n",
              "    <tr>\n",
              "      <th>positive</th>\n",
              "      <td>311</td>\n",
              "      <td>961</td>\n",
              "    </tr>\n",
              "  </tbody>\n",
              "</table>\n",
              "</div>"
            ],
            "text/plain": [
              "          negative  positive\n",
              "negative       828       400\n",
              "positive       311       961"
            ]
          },
          "metadata": {
            "tags": []
          },
          "execution_count": 166
        }
      ]
    },
    {
      "cell_type": "code",
      "metadata": {
        "id": "CM9VFyxM8ISq",
        "colab_type": "code",
        "outputId": "6a36a72d-cc0a-4e0f-8437-335d690d0900",
        "colab": {
          "base_uri": "https://localhost:8080/",
          "height": 170
        }
      },
      "source": [
        "\n",
        "# To show main classification report\n",
        "from sklearn.metrics import classification_report\n",
        "print(classification_report(y_test, y_pred_cv))"
      ],
      "execution_count": 167,
      "outputs": [
        {
          "output_type": "stream",
          "text": [
            "              precision    recall  f1-score   support\n",
            "\n",
            "         0.0       0.73      0.67      0.70      1228\n",
            "         1.0       0.71      0.76      0.73      1272\n",
            "\n",
            "    accuracy                           0.72      2500\n",
            "   macro avg       0.72      0.71      0.71      2500\n",
            "weighted avg       0.72      0.72      0.72      2500\n",
            "\n"
          ],
          "name": "stdout"
        }
      ]
    },
    {
      "cell_type": "code",
      "metadata": {
        "id": "JmDRkFKAgaDr",
        "colab_type": "code",
        "colab": {}
      },
      "source": [
        "y_conf_cv = model_cv.predict_proba(x_test_cv)[:,1]\n",
        "fpr, tpr, threshold = roc_curve(y_test,y_conf_cv,pos_label=1)"
      ],
      "execution_count": 0,
      "outputs": []
    },
    {
      "cell_type": "code",
      "metadata": {
        "id": "o1aTvmWYgctd",
        "colab_type": "code",
        "outputId": "f66276e5-e8fd-4f3e-dda1-0e8e152892ab",
        "colab": {
          "base_uri": "https://localhost:8080/",
          "height": 34
        }
      },
      "source": [
        "roc_auc = auc(fpr, tpr)\n",
        "roc_auc"
      ],
      "execution_count": 169,
      "outputs": [
        {
          "output_type": "execute_result",
          "data": {
            "text/plain": [
              "0.789940051830455"
            ]
          },
          "metadata": {
            "tags": []
          },
          "execution_count": 169
        }
      ]
    },
    {
      "cell_type": "code",
      "metadata": {
        "id": "kHTXliwmgtYG",
        "colab_type": "code",
        "outputId": "6fb55fc8-b488-438c-8d00-331b43fa607d",
        "colab": {
          "base_uri": "https://localhost:8080/",
          "height": 301
        }
      },
      "source": [
        "plt.figure(figsize=(6,4))\n",
        "plt.title('Receiver Operating Characteristic')\n",
        "plt.plot(fpr, tpr, 'b', label = 'AUC = %0.2f' % roc_auc)\n",
        "plt.legend(loc = 'lower right')\n",
        "plt.plot([0, 1], [0, 1],'r--')\n",
        "plt.xlim([0, 1])\n",
        "plt.ylim([0, 1])\n",
        "plt.ylabel('True Positive Rate')\n",
        "plt.xlabel('False Positive Rate')\n",
        "plt.show()\n"
      ],
      "execution_count": 180,
      "outputs": [
        {
          "output_type": "display_data",
          "data": {
            "image/png": "[encoded data removed]",
            "text/plain": [
              "<Figure size 432x288 with 1 Axes>"
            ]
          },
          "metadata": {
            "tags": []
          }
        }
      ]
    },
    {
      "cell_type": "markdown",
      "metadata": {
        "id": "_jiDvZmDc9w_",
        "colab_type": "text"
      },
      "source": [
        "**Top 10 important features**"
      ]
    },
    {
      "cell_type": "code",
      "metadata": {
        "id": "IX-qIgvsc2jD",
        "colab_type": "code",
        "colab": {
          "base_uri": "https://localhost:8080/",
          "height": 525
        },
        "outputId": "7b5e9b89-6c18-4744-b1da-1a599ff6b396"
      },
      "source": [
        "# print('top 10 features for -ve class: \\n', df[1].sort_values(ascending=False)[:10])\n",
        "bow_features=np.load('cv_feature_names.npy')\n",
        "d = dict(zip(bow_features, w_cv))\n",
        "# Sort feature importances in descending order\n",
        "indices = np.argsort(w_cv)[::-1][:10]\n",
        "\n",
        "# Rearrange feature names so they match the sorted feature importances\n",
        "# names = uni_gram.get_feature_names()\n",
        "\n",
        "sns.set(rc={'figure.figsize':(11.7,8.27)})\n",
        "\n",
        "# Create plot\n",
        "plt.figure()\n",
        "\n",
        "# Create plot title\n",
        "plt.title(\"Feature Importance\")\n",
        "\n",
        "# Add bars\n",
        "plt.bar(range(10), w_cv[indices])\n",
        "\n",
        "# Add feature names as x-axis labels\n",
        "names = np.array(bow_features)\n",
        "plt.xticks(range(10), names[indices], rotation=10)\n",
        "\n",
        "# Show plot\n",
        "plt.show()\n",
        "# uni_gram.get_feature_names()"
      ],
      "execution_count": 196,
      "outputs": [
        {
          "output_type": "display_data",
          "data": {
            "image/png": "[encoded data removed]",
            "text/plain": [
              "<Figure size 842.4x595.44 with 1 Axes>"
            ]
          },
          "metadata": {
            "tags": []
          }
        }
      ]
    },
    {
      "cell_type": "code",
      "metadata": {
        "id": "G2tSzEGfhkUP",
        "colab_type": "code",
        "colab": {
          "base_uri": "https://localhost:8080/",
          "height": 51
        },
        "outputId": "139d4905-1ac3-4b39-832d-a4a44189412a"
      },
      "source": [
        "names[indices]"
      ],
      "execution_count": 149,
      "outputs": [
        {
          "output_type": "execute_result",
          "data": {
            "text/plain": [
              "array(['nfl', 'goodhigh', 'lili', 'bestest', 'def', 'diggi', 'part',\n",
              "       'nabiso', 'awfultast', 'badwish'], dtype='<U71')"
            ]
          },
          "metadata": {
            "tags": []
          },
          "execution_count": 149
        }
      ]
    },
    {
      "cell_type": "markdown",
      "metadata": {
        "id": "ypB3Nu-djEyV",
        "colab_type": "text"
      },
      "source": [
        "**Graphviz Visualization**"
      ]
    },
    {
      "cell_type": "code",
      "metadata": {
        "id": "PvxvOu5qivp6",
        "colab_type": "code",
        "colab": {
          "base_uri": "https://localhost:8080/",
          "height": 34
        },
        "outputId": "858e4019-1a01-47bf-91d2-34d617478401"
      },
      "source": [
        "import graphviz\n",
        "dot_data = tree.export_graphviz(model_cv, out_file=None, feature_names=bow_features) \n",
        "graph = graphviz.Source(dot_data) \n",
        "graph.render(\"tree_representation_cv\")"
      ],
      "execution_count": 172,
      "outputs": [
        {
          "output_type": "execute_result",
          "data": {
            "text/plain": [
              "'tree_representation_cv.pdf'"
            ]
          },
          "metadata": {
            "tags": []
          },
          "execution_count": 172
        }
      ]
    },
    {
      "cell_type": "markdown",
      "metadata": {
        "id": "Hx4H2KEHjp_A",
        "colab_type": "text"
      },
      "source": [
        "## Tf-Idf vectorizer"
      ]
    },
    {
      "cell_type": "code",
      "metadata": {
        "id": "R7gqYuLpyK27",
        "colab_type": "code",
        "outputId": "c8228c5e-9523-4453-81bc-043b9aeefc66",
        "colab": {
          "base_uri": "https://localhost:8080/",
          "height": 374
        }
      },
      "source": [
        "depths=[1,5,10,50,100,500,1000]\n",
        "min_samples=[2,5,10,15,100,500,1000]\n",
        "parameters=dict(max_depth=depths,min_samples_split=min_samples)\n",
        "clf=RandomizedSearchCV(tree.DecisionTreeClassifier(),parameters, scoring='roc_auc', refit=True, cv=3,return_train_score=True)\n",
        "\n",
        "clf.fit(x_train_tfidf, y_train)"
      ],
      "execution_count": 173,
      "outputs": [
        {
          "output_type": "execute_result",
          "data": {
            "text/plain": [
              "RandomizedSearchCV(cv=3, error_score='raise-deprecating',\n",
              "                   estimator=DecisionTreeClassifier(class_weight=None,\n",
              "                                                    criterion='gini',\n",
              "                                                    max_depth=None,\n",
              "                                                    max_features=None,\n",
              "                                                    max_leaf_nodes=None,\n",
              "                                                    min_impurity_decrease=0.0,\n",
              "                                                    min_impurity_split=None,\n",
              "                                                    min_samples_leaf=1,\n",
              "                                                    min_samples_split=2,\n",
              "                                                    min_weight_fraction_leaf=0.0,\n",
              "                                                    presort=False,\n",
              "                                                    random_state=None,\n",
              "                                                    splitter='best'),\n",
              "                   iid='warn', n_iter=10, n_jobs=None,\n",
              "                   param_distributions={'max_depth': [1, 5, 10, 50, 100, 500,\n",
              "                                                      1000],\n",
              "                                        'min_samples_split': [2, 5, 10, 15, 100,\n",
              "                                                              500, 1000]},\n",
              "                   pre_dispatch='2*n_jobs', random_state=None, refit=True,\n",
              "                   return_train_score=True, scoring='roc_auc', verbose=0)"
            ]
          },
          "metadata": {
            "tags": []
          },
          "execution_count": 173
        }
      ]
    },
    {
      "cell_type": "code",
      "metadata": {
        "id": "VshLbNlb1rZ2",
        "colab_type": "code",
        "colab": {}
      },
      "source": [
        "cv_error=clf.cv_results_['mean_test_score']\n",
        "train_error=clf.cv_results_['mean_train_score']\n",
        "pred=clf.predict(x_train_tfidf)\n",
        "score=roc_auc_score(y_train, pred)\n",
        "split=clf.best_params_['min_samples_split']\n",
        "depth=clf.best_params_['max_depth']"
      ],
      "execution_count": 0,
      "outputs": []
    },
    {
      "cell_type": "code",
      "metadata": {
        "id": "p5RyYSiy1u8g",
        "colab_type": "code",
        "outputId": "0dd1c60f-3d79-4041-b2e5-48856dda9577",
        "colab": {
          "base_uri": "https://localhost:8080/",
          "height": 51
        }
      },
      "source": [
        "print(\"Auc Score: \", score)\n",
        "print(\"Best min_samples_split:\", split,' ', \"Best max_depth:\", depth)"
      ],
      "execution_count": 175,
      "outputs": [
        {
          "output_type": "stream",
          "text": [
            "Auc Score:  0.7510804994106108\n",
            "Best min_samples_split: 1000   Best max_depth: 500\n"
          ],
          "name": "stdout"
        }
      ]
    },
    {
      "cell_type": "code",
      "metadata": {
        "id": "6MeJo_f816Mo",
        "colab_type": "code",
        "colab": {
          "base_uri": "https://localhost:8080/",
          "height": 268
        },
        "outputId": "94d295db-ef06-45fc-d514-f7ace1e32e1e"
      },
      "source": [
        "plt.figure(figsize=(6,4))\n",
        "plt.plot(cv_error, label='CV')\n",
        "plt.plot(train_error, label='train')\n",
        "plt.legend()\n",
        "plt.show()"
      ],
      "execution_count": 181,
      "outputs": [
        {
          "output_type": "display_data",
          "data": {
            "image/png": "[encoded data removed]",
            "text/plain": [
              "<Figure size 432x288 with 1 Axes>"
            ]
          },
          "metadata": {
            "tags": []
          }
        }
      ]
    },
    {
      "cell_type": "code",
      "metadata": {
        "id": "BF60dMKR1-cZ",
        "colab_type": "code",
        "outputId": "efe16912-be72-4c70-ab07-c669b3e455e2",
        "colab": {
          "base_uri": "https://localhost:8080/",
          "height": 119
        }
      },
      "source": [
        "model_tfidf=tree.DecisionTreeClassifier(max_depth=depth, min_samples_split=split)\n",
        "model_tfidf.fit(x_train_tfidf, y_train)"
      ],
      "execution_count": 183,
      "outputs": [
        {
          "output_type": "execute_result",
          "data": {
            "text/plain": [
              "DecisionTreeClassifier(class_weight=None, criterion='gini', max_depth=500,\n",
              "                       max_features=None, max_leaf_nodes=None,\n",
              "                       min_impurity_decrease=0.0, min_impurity_split=None,\n",
              "                       min_samples_leaf=1, min_samples_split=1000,\n",
              "                       min_weight_fraction_leaf=0.0, presort=False,\n",
              "                       random_state=None, splitter='best')"
            ]
          },
          "metadata": {
            "tags": []
          },
          "execution_count": 183
        }
      ]
    },
    {
      "cell_type": "code",
      "metadata": {
        "id": "-6j6nbiK2DV2",
        "colab_type": "code",
        "outputId": "dd2ab8e4-9461-479c-fb44-f657188c3cf5",
        "colab": {
          "base_uri": "https://localhost:8080/",
          "height": 34
        }
      },
      "source": [
        "w_tfidf=model_tfidf.feature_importances_\n",
        "y_pred_tfidf = model_tfidf.predict(x_test_tfidf)\n",
        "print(\"Test accuracy:\", accuracy_score(y_test, y_pred_tfidf))"
      ],
      "execution_count": 185,
      "outputs": [
        {
          "output_type": "stream",
          "text": [
            "Test accuracy: 0.7224\n"
          ],
          "name": "stdout"
        }
      ]
    },
    {
      "cell_type": "code",
      "metadata": {
        "id": "Z-t2GY3Y7IZa",
        "colab_type": "code",
        "colab": {}
      },
      "source": [
        "# plot confusion matrix to describe the performance of classifier.\n",
        "plt.figure(figsize=(6,4))\n",
        "import seaborn as sns\n",
        "# Confusion Matrix\n",
        "cm = confusion_matrix(y_test, y_pred_tfidf)\n",
        "class_label = [\"negative\", \"positive\"]\n",
        "df_cm = pd.DataFrame(cm, index = class_label, columns = class_label)\n",
        "sns.heatmap(df_cm, annot = True, fmt = \"d\")\n",
        "plt.title(\"Confusion Matrix\")\n",
        "plt.xlabel(\"Predicted Label\")\n",
        "plt.ylabel(\"Actual Label\")\n",
        "plt.show()"
      ],
      "execution_count": 0,
      "outputs": []
    },
    {
      "cell_type": "code",
      "metadata": {
        "id": "7o7w6dksT0UN",
        "colab_type": "code",
        "colab": {
          "base_uri": "https://localhost:8080/",
          "height": 111
        },
        "outputId": "9366c6f5-e138-486a-aea6-266a8ec41bdb"
      },
      "source": [
        "df_cm"
      ],
      "execution_count": 187,
      "outputs": [
        {
          "output_type": "execute_result",
          "data": {
            "text/html": [
              "<div>\n",
              "<style scoped>\n",
              "    .dataframe tbody tr th:only-of-type {\n",
              "        vertical-align: middle;\n",
              "    }\n",
              "\n",
              "    .dataframe tbody tr th {\n",
              "        vertical-align: top;\n",
              "    }\n",
              "\n",
              "    .dataframe thead th {\n",
              "        text-align: right;\n",
              "    }\n",
              "</style>\n",
              "<table border=\"1\" class=\"dataframe\">\n",
              "  <thead>\n",
              "    <tr style=\"text-align: right;\">\n",
              "      <th></th>\n",
              "      <th>negative</th>\n",
              "      <th>positive</th>\n",
              "    </tr>\n",
              "  </thead>\n",
              "  <tbody>\n",
              "    <tr>\n",
              "      <th>negative</th>\n",
              "      <td>808</td>\n",
              "      <td>420</td>\n",
              "    </tr>\n",
              "    <tr>\n",
              "      <th>positive</th>\n",
              "      <td>274</td>\n",
              "      <td>998</td>\n",
              "    </tr>\n",
              "  </tbody>\n",
              "</table>\n",
              "</div>"
            ],
            "text/plain": [
              "          negative  positive\n",
              "negative       808       420\n",
              "positive       274       998"
            ]
          },
          "metadata": {
            "tags": []
          },
          "execution_count": 187
        }
      ]
    },
    {
      "cell_type": "code",
      "metadata": {
        "id": "DHoL9TP87vPp",
        "colab_type": "code",
        "outputId": "b8bbf2ac-1dcc-4294-b99e-62dcac92f6cf",
        "colab": {
          "base_uri": "https://localhost:8080/",
          "height": 170
        }
      },
      "source": [
        "\n",
        "# To show main classification report\n",
        "from sklearn.metrics import classification_report\n",
        "print(classification_report(y_test, y_pred_tfidf))"
      ],
      "execution_count": 189,
      "outputs": [
        {
          "output_type": "stream",
          "text": [
            "              precision    recall  f1-score   support\n",
            "\n",
            "         0.0       0.75      0.66      0.70      1228\n",
            "         1.0       0.70      0.78      0.74      1272\n",
            "\n",
            "    accuracy                           0.72      2500\n",
            "   macro avg       0.73      0.72      0.72      2500\n",
            "weighted avg       0.72      0.72      0.72      2500\n",
            "\n"
          ],
          "name": "stdout"
        }
      ]
    },
    {
      "cell_type": "code",
      "metadata": {
        "id": "DozYvKfi8QFt",
        "colab_type": "code",
        "colab": {}
      },
      "source": [
        "y_conf_tfidf = model_tfidf.predict_proba(x_test_tfidf)[:,1]\n",
        "fpr, tpr, threshold = roc_curve(y_test,y_conf_tfidf,pos_label=1)"
      ],
      "execution_count": 0,
      "outputs": []
    },
    {
      "cell_type": "code",
      "metadata": {
        "id": "f7stci_Ig3u8",
        "colab_type": "code",
        "outputId": "a47bacb7-2e17-46d0-a31b-d4af9f38a7b2",
        "colab": {
          "base_uri": "https://localhost:8080/",
          "height": 34
        }
      },
      "source": [
        "roc_auc = auc(fpr, tpr)\n",
        "roc_auc"
      ],
      "execution_count": 191,
      "outputs": [
        {
          "output_type": "execute_result",
          "data": {
            "text/plain": [
              "0.7783745493003913"
            ]
          },
          "metadata": {
            "tags": []
          },
          "execution_count": 191
        }
      ]
    },
    {
      "cell_type": "code",
      "metadata": {
        "id": "vijEXM_Kg7OT",
        "colab_type": "code",
        "outputId": "4c72c1f2-8bc0-42f0-a655-e5b6f0c8209f",
        "colab": {
          "base_uri": "https://localhost:8080/",
          "height": 301
        }
      },
      "source": [
        "plt.figure(figsize=(6,4))\n",
        "plt.title('Receiver Operating Characteristic')\n",
        "plt.plot(fpr, tpr, 'b', label = 'AUC = %0.2f' % roc_auc)\n",
        "plt.legend(loc = 'lower right')\n",
        "plt.plot([0, 1], [0, 1],'r--')\n",
        "plt.xlim([0, 1])\n",
        "plt.ylim([0, 1])\n",
        "plt.ylabel('True Positive Rate')\n",
        "plt.xlabel('False Positive Rate')\n",
        "plt.show()\n"
      ],
      "execution_count": 193,
      "outputs": [
        {
          "output_type": "display_data",
          "data": {
            "image/png": "[encoded data removed]",
            "text/plain": [
              "<Figure size 432x288 with 1 Axes>"
            ]
          },
          "metadata": {
            "tags": []
          }
        }
      ]
    },
    {
      "cell_type": "markdown",
      "metadata": {
        "colab_type": "text",
        "id": "pAC554tntQSW"
      },
      "source": [
        "**Top 10 important features**"
      ]
    },
    {
      "cell_type": "code",
      "metadata": {
        "colab_type": "code",
        "outputId": "609e57e2-944d-4e76-ea63-72c77a4fb5bd",
        "id": "8QG0XikWtQSY",
        "colab": {
          "base_uri": "https://localhost:8080/",
          "height": 526
        }
      },
      "source": [
        "# print('top 10 features for -ve class: \\n', df[1].sort_values(ascending=False)[:10])\n",
        "tfidf_features=np.load('tfidf_feature_names.npy')\n",
        "d = dict(zip(tfidf_features, w_tfidf))\n",
        "# Sort feature importances in descending order\n",
        "indices = np.argsort(w_tfidf)[::-1][:10]\n",
        "\n",
        "# Rearrange feature names so they match the sorted feature importances\n",
        "# names = uni_gram.get_feature_names()\n",
        "\n",
        "sns.set(rc={'figure.figsize':(11.7,8.27)})\n",
        "\n",
        "# Create plot\n",
        "plt.figure()\n",
        "\n",
        "# Create plot title\n",
        "plt.title(\"Feature Importance\")\n",
        "\n",
        "# Add bars\n",
        "plt.bar(range(10), w_tfidf[indices])\n",
        "\n",
        "# Add feature names as x-axis labels\n",
        "names = np.array(tfidf_features)\n",
        "plt.xticks(range(10), names[indices], rotation=10)\n",
        "\n",
        "# Show plot\n",
        "plt.show()\n",
        "# uni_gram.get_feature_names()"
      ],
      "execution_count": 194,
      "outputs": [
        {
          "output_type": "display_data",
          "data": {
            "image/png": "[encoded data removed]",
            "text/plain": [
              "<Figure size 842.4x595.44 with 1 Axes>"
            ]
          },
          "metadata": {
            "tags": []
          }
        }
      ]
    },
    {
      "cell_type": "code",
      "metadata": {
        "colab_type": "code",
        "outputId": "b3d1179b-4de6-43b5-9338-e527a4cb1ca6",
        "id": "EVwcZfFAtQSc",
        "colab": {
          "base_uri": "https://localhost:8080/",
          "height": 51
        }
      },
      "source": [
        "names[indices]"
      ],
      "execution_count": 195,
      "outputs": [
        {
          "output_type": "execute_result",
          "data": {
            "text/plain": [
              "array(['not', 'great', 'love', 'disappoint', 'best', 'perfect', 'delici',\n",
              "       'good', 'excel', 'favorit'], dtype='<U71')"
            ]
          },
          "metadata": {
            "tags": []
          },
          "execution_count": 195
        }
      ]
    },
    {
      "cell_type": "markdown",
      "metadata": {
        "colab_type": "text",
        "id": "-YdAar37tQSf"
      },
      "source": [
        "**Graphviz Visualization**"
      ]
    },
    {
      "cell_type": "code",
      "metadata": {
        "colab_type": "code",
        "outputId": "0d471fd2-d336-49e3-968b-ea30cd8c1445",
        "id": "CR6kpkWUtQSg",
        "colab": {
          "base_uri": "https://localhost:8080/",
          "height": 34
        }
      },
      "source": [
        "import graphviz\n",
        "dot_data = tree.export_graphviz(model_tfidf, out_file=None, feature_names=bow_features) \n",
        "graph = graphviz.Source(dot_data) \n",
        "graph.render(\"tree_representation_tfidf\")"
      ],
      "execution_count": 197,
      "outputs": [
        {
          "output_type": "execute_result",
          "data": {
            "text/plain": [
              "'tree_representation_tfidf.pdf'"
            ]
          },
          "metadata": {
            "tags": []
          },
          "execution_count": 197
        }
      ]
    },
    {
      "cell_type": "markdown",
      "metadata": {
        "id": "gUil0-cnjz8Q",
        "colab_type": "text"
      },
      "source": [
        "## Avg Word2Vec"
      ]
    },
    {
      "cell_type": "code",
      "metadata": {
        "id": "bOoCCrUyhReD",
        "colab_type": "code",
        "outputId": "c9c219a4-eeb4-4782-c589-83858766ab7d",
        "colab": {
          "base_uri": "https://localhost:8080/",
          "height": 374
        }
      },
      "source": [
        "depths=[1,5,10,50,100,500,1000]\n",
        "min_samples=[2,5,10,15,100,500,1000]\n",
        "parameters=dict(max_depth=depths,min_samples_split=min_samples)\n",
        "clf=RandomizedSearchCV(tree.DecisionTreeClassifier(),parameters, scoring='roc_auc', refit=True, cv=3,return_train_score=True)\n",
        "\n",
        "clf.fit(x_train_w2v_av, y_train)"
      ],
      "execution_count": 198,
      "outputs": [
        {
          "output_type": "execute_result",
          "data": {
            "text/plain": [
              "RandomizedSearchCV(cv=3, error_score='raise-deprecating',\n",
              "                   estimator=DecisionTreeClassifier(class_weight=None,\n",
              "                                                    criterion='gini',\n",
              "                                                    max_depth=None,\n",
              "                                                    max_features=None,\n",
              "                                                    max_leaf_nodes=None,\n",
              "                                                    min_impurity_decrease=0.0,\n",
              "                                                    min_impurity_split=None,\n",
              "                                                    min_samples_leaf=1,\n",
              "                                                    min_samples_split=2,\n",
              "                                                    min_weight_fraction_leaf=0.0,\n",
              "                                                    presort=False,\n",
              "                                                    random_state=None,\n",
              "                                                    splitter='best'),\n",
              "                   iid='warn', n_iter=10, n_jobs=None,\n",
              "                   param_distributions={'max_depth': [1, 5, 10, 50, 100, 500,\n",
              "                                                      1000],\n",
              "                                        'min_samples_split': [2, 5, 10, 15, 100,\n",
              "                                                              500, 1000]},\n",
              "                   pre_dispatch='2*n_jobs', random_state=None, refit=True,\n",
              "                   return_train_score=True, scoring='roc_auc', verbose=0)"
            ]
          },
          "metadata": {
            "tags": []
          },
          "execution_count": 198
        }
      ]
    },
    {
      "cell_type": "code",
      "metadata": {
        "colab_type": "code",
        "id": "qD4EsnuWU-u1",
        "colab": {}
      },
      "source": [
        "cv_error=clf.cv_results_['mean_test_score']\n",
        "train_error=clf.cv_results_['mean_train_score']\n",
        "pred=clf.predict(x_train_w2v_av)\n",
        "score=roc_auc_score(y_train, pred)\n",
        "split=clf.best_params_['min_samples_split']\n",
        "depth=clf.best_params_['max_depth']"
      ],
      "execution_count": 0,
      "outputs": []
    },
    {
      "cell_type": "code",
      "metadata": {
        "colab_type": "code",
        "outputId": "e89c2d23-dcec-4a0a-d1ae-f0e8559cc4f6",
        "id": "LTlUFQ5cU-u7",
        "colab": {
          "base_uri": "https://localhost:8080/",
          "height": 51
        }
      },
      "source": [
        "print(\"Auc Score: \", score)\n",
        "print(\"Best min_samples_split:\", split,' ', \"Best max_depth:\", depth)"
      ],
      "execution_count": 200,
      "outputs": [
        {
          "output_type": "stream",
          "text": [
            "Auc Score:  0.745332674916598\n",
            "Best min_samples_split: 100   Best max_depth: 5\n"
          ],
          "name": "stdout"
        }
      ]
    },
    {
      "cell_type": "code",
      "metadata": {
        "colab_type": "code",
        "outputId": "9efb5796-b750-43b0-d7c8-9214ff22608f",
        "id": "A7Yz7Z4BU-u_",
        "colab": {
          "base_uri": "https://localhost:8080/",
          "height": 268
        }
      },
      "source": [
        "plt.figure(figsize=(6,4))\n",
        "plt.plot(cv_error, label='CV')\n",
        "plt.plot(train_error, label='train')\n",
        "plt.legend()\n",
        "plt.show()"
      ],
      "execution_count": 202,
      "outputs": [
        {
          "output_type": "display_data",
          "data": {
            "image/png": "[encoded data removed]",
            "text/plain": [
              "<Figure size 432x288 with 1 Axes>"
            ]
          },
          "metadata": {
            "tags": []
          }
        }
      ]
    },
    {
      "cell_type": "code",
      "metadata": {
        "colab_type": "code",
        "outputId": "2f6acc42-5fea-4fb4-dd25-16143f910839",
        "id": "ElyEKKf6U-vD",
        "colab": {
          "base_uri": "https://localhost:8080/",
          "height": 119
        }
      },
      "source": [
        "model_w2v_av=tree.DecisionTreeClassifier(max_depth=depth, min_samples_split=split)\n",
        "model_w2v_av.fit(x_train_w2v_av, y_train)"
      ],
      "execution_count": 203,
      "outputs": [
        {
          "output_type": "execute_result",
          "data": {
            "text/plain": [
              "DecisionTreeClassifier(class_weight=None, criterion='gini', max_depth=5,\n",
              "                       max_features=None, max_leaf_nodes=None,\n",
              "                       min_impurity_decrease=0.0, min_impurity_split=None,\n",
              "                       min_samples_leaf=1, min_samples_split=100,\n",
              "                       min_weight_fraction_leaf=0.0, presort=False,\n",
              "                       random_state=None, splitter='best')"
            ]
          },
          "metadata": {
            "tags": []
          },
          "execution_count": 203
        }
      ]
    },
    {
      "cell_type": "code",
      "metadata": {
        "colab_type": "code",
        "outputId": "d8c566ee-d97d-438f-862e-e8299bdfccfa",
        "id": "fxTs7aOEU-vG",
        "colab": {
          "base_uri": "https://localhost:8080/",
          "height": 34
        }
      },
      "source": [
        "y_pred_w2v_av = model_w2v_av.predict(x_test_w2v_av)\n",
        "print(\"Test accuracy:\", accuracy_score(y_test, y_pred_w2v_av))"
      ],
      "execution_count": 204,
      "outputs": [
        {
          "output_type": "stream",
          "text": [
            "Test accuracy: 0.72\n"
          ],
          "name": "stdout"
        }
      ]
    },
    {
      "cell_type": "code",
      "metadata": {
        "colab_type": "code",
        "id": "8X3TBVuyU-vJ",
        "colab": {}
      },
      "source": [
        "# plot confusion matrix to describe the performance of classifier.\n",
        "import seaborn as sns\n",
        "# Confusion Matrix\n",
        "cm = confusion_matrix(y_test, y_pred_w2v_av)\n",
        "class_label = [\"negative\", \"positive\"]\n",
        "df_cm = pd.DataFrame(cm, index = class_label, columns = class_label)\n",
        "sns.heatmap(df_cm, annot = True, fmt = \"d\")\n",
        "plt.title(\"Confusion Matrix\")\n",
        "plt.xlabel(\"Predicted Label\")\n",
        "plt.ylabel(\"Actual Label\")\n",
        "plt.show()"
      ],
      "execution_count": 0,
      "outputs": []
    },
    {
      "cell_type": "code",
      "metadata": {
        "colab_type": "code",
        "outputId": "227e4896-dfa2-4814-d50a-317334a04807",
        "id": "qkn-4OkxU-vN",
        "colab": {
          "base_uri": "https://localhost:8080/",
          "height": 111
        }
      },
      "source": [
        "df_cm"
      ],
      "execution_count": 206,
      "outputs": [
        {
          "output_type": "execute_result",
          "data": {
            "text/html": [
              "<div>\n",
              "<style scoped>\n",
              "    .dataframe tbody tr th:only-of-type {\n",
              "        vertical-align: middle;\n",
              "    }\n",
              "\n",
              "    .dataframe tbody tr th {\n",
              "        vertical-align: top;\n",
              "    }\n",
              "\n",
              "    .dataframe thead th {\n",
              "        text-align: right;\n",
              "    }\n",
              "</style>\n",
              "<table border=\"1\" class=\"dataframe\">\n",
              "  <thead>\n",
              "    <tr style=\"text-align: right;\">\n",
              "      <th></th>\n",
              "      <th>negative</th>\n",
              "      <th>positive</th>\n",
              "    </tr>\n",
              "  </thead>\n",
              "  <tbody>\n",
              "    <tr>\n",
              "      <th>negative</th>\n",
              "      <td>961</td>\n",
              "      <td>267</td>\n",
              "    </tr>\n",
              "    <tr>\n",
              "      <th>positive</th>\n",
              "      <td>433</td>\n",
              "      <td>839</td>\n",
              "    </tr>\n",
              "  </tbody>\n",
              "</table>\n",
              "</div>"
            ],
            "text/plain": [
              "          negative  positive\n",
              "negative       961       267\n",
              "positive       433       839"
            ]
          },
          "metadata": {
            "tags": []
          },
          "execution_count": 206
        }
      ]
    },
    {
      "cell_type": "code",
      "metadata": {
        "colab_type": "code",
        "outputId": "30f62952-a1d6-48be-ad52-2ca08c7658e7",
        "id": "Hm9TLa01U-vQ",
        "colab": {
          "base_uri": "https://localhost:8080/",
          "height": 170
        }
      },
      "source": [
        "\n",
        "# To show main classification report\n",
        "from sklearn.metrics import classification_report\n",
        "print(classification_report(y_test, y_pred_w2v_av))"
      ],
      "execution_count": 207,
      "outputs": [
        {
          "output_type": "stream",
          "text": [
            "              precision    recall  f1-score   support\n",
            "\n",
            "         0.0       0.69      0.78      0.73      1228\n",
            "         1.0       0.76      0.66      0.71      1272\n",
            "\n",
            "    accuracy                           0.72      2500\n",
            "   macro avg       0.72      0.72      0.72      2500\n",
            "weighted avg       0.72      0.72      0.72      2500\n",
            "\n"
          ],
          "name": "stdout"
        }
      ]
    },
    {
      "cell_type": "code",
      "metadata": {
        "colab_type": "code",
        "id": "P-8UcezIU-vV",
        "colab": {}
      },
      "source": [
        "y_conf_w2v_av = model_w2v_av.predict_proba(x_test_w2v_av)[:,1]\n",
        "fpr, tpr, threshold = roc_curve(y_test,y_conf_w2v_av,pos_label=1)"
      ],
      "execution_count": 0,
      "outputs": []
    },
    {
      "cell_type": "code",
      "metadata": {
        "colab_type": "code",
        "outputId": "6a09ef47-fbe2-47ea-ba55-df6d1af96b23",
        "id": "8zbqH1buU-vY",
        "colab": {
          "base_uri": "https://localhost:8080/",
          "height": 34
        }
      },
      "source": [
        "roc_auc = auc(fpr, tpr)\n",
        "roc_auc"
      ],
      "execution_count": 209,
      "outputs": [
        {
          "output_type": "execute_result",
          "data": {
            "text/plain": [
              "0.7947677872697847"
            ]
          },
          "metadata": {
            "tags": []
          },
          "execution_count": 209
        }
      ]
    },
    {
      "cell_type": "code",
      "metadata": {
        "colab_type": "code",
        "outputId": "cc0958b2-e5ba-42a0-fcd7-288fe789ef91",
        "id": "P1Ki7ayZU-vd",
        "colab": {
          "base_uri": "https://localhost:8080/",
          "height": 301
        }
      },
      "source": [
        "plt.figure(figsize=(6,4))\n",
        "plt.title('Receiver Operating Characteristic')\n",
        "plt.plot(fpr, tpr, 'b', label = 'AUC = %0.2f' % roc_auc)\n",
        "plt.legend(loc = 'lower right')\n",
        "plt.plot([0, 1], [0, 1],'r--')\n",
        "plt.xlim([0, 1])\n",
        "plt.ylim([0, 1])\n",
        "plt.ylabel('True Positive Rate')\n",
        "plt.xlabel('False Positive Rate')\n",
        "plt.show()\n"
      ],
      "execution_count": 211,
      "outputs": [
        {
          "output_type": "display_data",
          "data": {
            "image/png": "[encoded data removed]",
            "text/plain": [
              "<Figure size 432x288 with 1 Axes>"
            ]
          },
          "metadata": {
            "tags": []
          }
        }
      ]
    },
    {
      "cell_type": "markdown",
      "metadata": {
        "id": "BiTUfVvUj4n8",
        "colab_type": "text"
      },
      "source": [
        "## Tf-Idf weighted Word2Vec"
      ]
    },
    {
      "cell_type": "code",
      "metadata": {
        "colab_type": "code",
        "outputId": "cc266863-15a4-4f58-c612-823faa67da90",
        "id": "WRDDrieJwbKb",
        "colab": {
          "base_uri": "https://localhost:8080/",
          "height": 374
        }
      },
      "source": [
        "depths=[1,5,10,50,100,500,1000]\n",
        "min_samples=[2,5,10,15,100,500,1000]\n",
        "parameters=dict(max_depth=depths,min_samples_split=min_samples)\n",
        "clf=RandomizedSearchCV(tree.DecisionTreeClassifier(),parameters, scoring='roc_auc', refit=True, cv=3,return_train_score=True)\n",
        "\n",
        "clf.fit(x_train_w2v_tf, y_train)"
      ],
      "execution_count": 212,
      "outputs": [
        {
          "output_type": "execute_result",
          "data": {
            "text/plain": [
              "RandomizedSearchCV(cv=3, error_score='raise-deprecating',\n",
              "                   estimator=DecisionTreeClassifier(class_weight=None,\n",
              "                                                    criterion='gini',\n",
              "                                                    max_depth=None,\n",
              "                                                    max_features=None,\n",
              "                                                    max_leaf_nodes=None,\n",
              "                                                    min_impurity_decrease=0.0,\n",
              "                                                    min_impurity_split=None,\n",
              "                                                    min_samples_leaf=1,\n",
              "                                                    min_samples_split=2,\n",
              "                                                    min_weight_fraction_leaf=0.0,\n",
              "                                                    presort=False,\n",
              "                                                    random_state=None,\n",
              "                                                    splitter='best'),\n",
              "                   iid='warn', n_iter=10, n_jobs=None,\n",
              "                   param_distributions={'max_depth': [1, 5, 10, 50, 100, 500,\n",
              "                                                      1000],\n",
              "                                        'min_samples_split': [2, 5, 10, 15, 100,\n",
              "                                                              500, 1000]},\n",
              "                   pre_dispatch='2*n_jobs', random_state=None, refit=True,\n",
              "                   return_train_score=True, scoring='roc_auc', verbose=0)"
            ]
          },
          "metadata": {
            "tags": []
          },
          "execution_count": 212
        }
      ]
    },
    {
      "cell_type": "code",
      "metadata": {
        "colab_type": "code",
        "id": "2mGwi2P9wbKi",
        "colab": {}
      },
      "source": [
        "cv_error=clf.cv_results_['mean_test_score']\n",
        "train_error=clf.cv_results_['mean_train_score']\n",
        "pred=clf.predict(x_train_w2v_tf)\n",
        "score=roc_auc_score(y_train, pred)\n",
        "split=clf.best_params_['min_samples_split']\n",
        "depth=clf.best_params_['max_depth']"
      ],
      "execution_count": 0,
      "outputs": []
    },
    {
      "cell_type": "code",
      "metadata": {
        "colab_type": "code",
        "outputId": "af071b07-74ac-4770-84a0-b4b4fa2bcce7",
        "id": "0oqlNV08wbKl",
        "colab": {
          "base_uri": "https://localhost:8080/",
          "height": 51
        }
      },
      "source": [
        "print(\"Auc Score: \", score)\n",
        "print(\"Best min_samples_split:\", split,' ', \"Best max_depth:\", depth)"
      ],
      "execution_count": 217,
      "outputs": [
        {
          "output_type": "stream",
          "text": [
            "Auc Score:  0.6952098475780428\n",
            "Best min_samples_split: 500   Best max_depth: 100\n"
          ],
          "name": "stdout"
        }
      ]
    },
    {
      "cell_type": "code",
      "metadata": {
        "colab_type": "code",
        "outputId": "428ee983-f358-4528-b6d3-89d837deb561",
        "id": "i7H3B-2CwbKo",
        "colab": {
          "base_uri": "https://localhost:8080/",
          "height": 268
        }
      },
      "source": [
        "plt.figure(figsize=(6,4))\n",
        "plt.plot(cv_error, label='CV')\n",
        "plt.plot(train_error, label='train')\n",
        "plt.legend()\n",
        "plt.show()"
      ],
      "execution_count": 218,
      "outputs": [
        {
          "output_type": "display_data",
          "data": {
            "image/png": "[encoded data removed]",
            "text/plain": [
              "<Figure size 432x288 with 1 Axes>"
            ]
          },
          "metadata": {
            "tags": []
          }
        }
      ]
    },
    {
      "cell_type": "code",
      "metadata": {
        "colab_type": "code",
        "outputId": "3777720b-8bcc-4dc2-f168-c20045903b3b",
        "id": "MSL0xCVEwbKq",
        "colab": {
          "base_uri": "https://localhost:8080/",
          "height": 119
        }
      },
      "source": [
        "model_w2v_tf=tree.DecisionTreeClassifier(max_depth=depth, min_samples_split=split)\n",
        "model_w2v_tf.fit(x_train_w2v_tf, y_train)"
      ],
      "execution_count": 219,
      "outputs": [
        {
          "output_type": "execute_result",
          "data": {
            "text/plain": [
              "DecisionTreeClassifier(class_weight=None, criterion='gini', max_depth=100,\n",
              "                       max_features=None, max_leaf_nodes=None,\n",
              "                       min_impurity_decrease=0.0, min_impurity_split=None,\n",
              "                       min_samples_leaf=1, min_samples_split=500,\n",
              "                       min_weight_fraction_leaf=0.0, presort=False,\n",
              "                       random_state=None, splitter='best')"
            ]
          },
          "metadata": {
            "tags": []
          },
          "execution_count": 219
        }
      ]
    },
    {
      "cell_type": "code",
      "metadata": {
        "colab_type": "code",
        "outputId": "8b72081c-da39-49f3-a212-447d1992e0ec",
        "id": "oWYNkwJywbKt",
        "colab": {
          "base_uri": "https://localhost:8080/",
          "height": 34
        }
      },
      "source": [
        "y_pred_w2v_tf = model_w2v_tf.predict(x_test_w2v_tf)\n",
        "print(\"Test accuracy:\", accuracy_score(y_test, y_pred_w2v_tf))"
      ],
      "execution_count": 220,
      "outputs": [
        {
          "output_type": "stream",
          "text": [
            "Test accuracy: 0.6856\n"
          ],
          "name": "stdout"
        }
      ]
    },
    {
      "cell_type": "code",
      "metadata": {
        "colab_type": "code",
        "id": "P4AcyawUwbKw",
        "colab": {}
      },
      "source": [
        "# plot confusion matrix to describe the performance of classifier.\n",
        "import seaborn as sns\n",
        "# Confusion Matrix\n",
        "cm = confusion_matrix(y_test, y_pred_w2v_tf)\n",
        "class_label = [\"negative\", \"positive\"]\n",
        "df_cm = pd.DataFrame(cm, index = class_label, columns = class_label)\n",
        "sns.heatmap(df_cm, annot = True, fmt = \"d\")\n",
        "plt.title(\"Confusion Matrix\")\n",
        "plt.xlabel(\"Predicted Label\")\n",
        "plt.ylabel(\"Actual Label\")\n",
        "plt.show()"
      ],
      "execution_count": 0,
      "outputs": []
    },
    {
      "cell_type": "code",
      "metadata": {
        "colab_type": "code",
        "outputId": "c3db47b3-546c-4c10-842a-cd5cf2e2ccc6",
        "id": "J1xnR617wbK0",
        "colab": {
          "base_uri": "https://localhost:8080/",
          "height": 111
        }
      },
      "source": [
        "df_cm"
      ],
      "execution_count": 222,
      "outputs": [
        {
          "output_type": "execute_result",
          "data": {
            "text/html": [
              "<div>\n",
              "<style scoped>\n",
              "    .dataframe tbody tr th:only-of-type {\n",
              "        vertical-align: middle;\n",
              "    }\n",
              "\n",
              "    .dataframe tbody tr th {\n",
              "        vertical-align: top;\n",
              "    }\n",
              "\n",
              "    .dataframe thead th {\n",
              "        text-align: right;\n",
              "    }\n",
              "</style>\n",
              "<table border=\"1\" class=\"dataframe\">\n",
              "  <thead>\n",
              "    <tr style=\"text-align: right;\">\n",
              "      <th></th>\n",
              "      <th>negative</th>\n",
              "      <th>positive</th>\n",
              "    </tr>\n",
              "  </thead>\n",
              "  <tbody>\n",
              "    <tr>\n",
              "      <th>negative</th>\n",
              "      <td>831</td>\n",
              "      <td>397</td>\n",
              "    </tr>\n",
              "    <tr>\n",
              "      <th>positive</th>\n",
              "      <td>389</td>\n",
              "      <td>883</td>\n",
              "    </tr>\n",
              "  </tbody>\n",
              "</table>\n",
              "</div>"
            ],
            "text/plain": [
              "          negative  positive\n",
              "negative       831       397\n",
              "positive       389       883"
            ]
          },
          "metadata": {
            "tags": []
          },
          "execution_count": 222
        }
      ]
    },
    {
      "cell_type": "code",
      "metadata": {
        "colab_type": "code",
        "outputId": "6429cdd4-5466-4a94-a102-af3bc2fa31b2",
        "id": "a7WDEoYKwbK3",
        "colab": {
          "base_uri": "https://localhost:8080/",
          "height": 170
        }
      },
      "source": [
        "# To show main classification report\n",
        "from sklearn.metrics import classification_report\n",
        "print(classification_report(y_test, y_pred_w2v_tf))"
      ],
      "execution_count": 223,
      "outputs": [
        {
          "output_type": "stream",
          "text": [
            "              precision    recall  f1-score   support\n",
            "\n",
            "         0.0       0.68      0.68      0.68      1228\n",
            "         1.0       0.69      0.69      0.69      1272\n",
            "\n",
            "    accuracy                           0.69      2500\n",
            "   macro avg       0.69      0.69      0.69      2500\n",
            "weighted avg       0.69      0.69      0.69      2500\n",
            "\n"
          ],
          "name": "stdout"
        }
      ]
    },
    {
      "cell_type": "code",
      "metadata": {
        "colab_type": "code",
        "id": "y2vGewpgwbK6",
        "colab": {}
      },
      "source": [
        "y_conf_w2v_tf = model_w2v_tf.predict_proba(x_test_w2v_tf)[:,1]\n",
        "fpr, tpr, threshold = roc_curve(y_test,y_conf_w2v_tf,pos_label=1)"
      ],
      "execution_count": 0,
      "outputs": []
    },
    {
      "cell_type": "code",
      "metadata": {
        "colab_type": "code",
        "outputId": "f86f66ae-db14-4a6c-ba21-4e5dbc8dda10",
        "id": "L6dcnSLJwbK9",
        "colab": {
          "base_uri": "https://localhost:8080/",
          "height": 34
        }
      },
      "source": [
        "roc_auc = auc(fpr, tpr)\n",
        "roc_auc"
      ],
      "execution_count": 225,
      "outputs": [
        {
          "output_type": "execute_result",
          "data": {
            "text/plain": [
              "0.7403416482289555"
            ]
          },
          "metadata": {
            "tags": []
          },
          "execution_count": 225
        }
      ]
    },
    {
      "cell_type": "code",
      "metadata": {
        "colab_type": "code",
        "outputId": "7ebd5b90-4c08-4776-fce5-88239d26b712",
        "id": "te1KEHkGwbK_",
        "colab": {
          "base_uri": "https://localhost:8080/",
          "height": 301
        }
      },
      "source": [
        "plt.figure(figsize=(6,4))\n",
        "plt.title('Receiver Operating Characteristic')\n",
        "plt.plot(fpr, tpr, 'b', label = 'AUC = %0.2f' % roc_auc)\n",
        "plt.legend(loc = 'lower right')\n",
        "plt.plot([0, 1], [0, 1],'r--')\n",
        "plt.xlim([0, 1])\n",
        "plt.ylim([0, 1])\n",
        "plt.ylabel('True Positive Rate')\n",
        "plt.xlabel('False Positive Rate')\n",
        "plt.show()\n"
      ],
      "execution_count": 226,
      "outputs": [
        {
          "output_type": "display_data",
          "data": {
            "image/png": "[encoded data removed]",
            "text/plain": [
              "<Figure size 432x288 with 1 Axes>"
            ]
          },
          "metadata": {
            "tags": []
          }
        }
      ]
    },
    {
      "cell_type": "code",
      "metadata": {
        "id": "9FJkmHPsxGEl",
        "colab_type": "code",
        "colab": {}
      },
      "source": [
        ""
      ],
      "execution_count": 0,
      "outputs": []
    }
  ]
}
{
  "nbformat": 4,
  "nbformat_minor": 0,
  "metadata": {
    "colab": {
      "name": "Amazon Food Reviews (KNN).ipynb.ipynb",
      "provenance": []
    },
    "kernelspec": {
      "name": "python3",
      "display_name": "Python 3"
    },
    "accelerator": "GPU"
  },
  "cells": [
    {
      "cell_type": "code",
      "metadata": {
        "id": "AQ-uPyudizTP",
        "colab_type": "code",
        "outputId": "8f334d8c-fc80-4f91-9b67-afb064ec39c6",
        "colab": {
          "base_uri": "https://localhost:8080/",
          "height": 122
        }
      },
      "source": [
        "from google.colab import drive\n",
        "drive.mount('/content/drive') "
      ],
      "execution_count": 1,
      "outputs": [
        {
          "output_type": "stream",
          "text": [
            "Go to this URL in a browser: https://accounts.google.com/o/oauth2/auth?client_id=947318989803-6bn6qk8qdgf4n4g3pfee6491hc0brc4i.apps.googleusercontent.com&redirect_uri=urn%3Aietf%3Awg%3Aoauth%3A2.0%3Aoob&scope=email%20https%3A%2F%2Fwww.googleapis.com%2Fauth%2Fdocs.test%20https%3A%2F%2Fwww.googleapis.com%2Fauth%2Fdrive%20https%3A%2F%2Fwww.googleapis.com%2Fauth%2Fdrive.photos.readonly%20https%3A%2F%2Fwww.googleapis.com%2Fauth%2Fpeopleapi.readonly&response_type=code\n",
            "\n",
            "Enter your authorization code:\n",
            "··········\n",
            "Mounted at /content/drive\n"
          ],
          "name": "stdout"
        }
      ]
    },
    {
      "cell_type": "code",
      "metadata": {
        "id": "wIpDMhD7jMjG",
        "colab_type": "code",
        "colab": {}
      },
      "source": [
        "import os\n",
        "os.chdir('./drive/My Drive/amazon_food_reviews')"
      ],
      "execution_count": 0,
      "outputs": []
    },
    {
      "cell_type": "code",
      "metadata": {
        "id": "yo_zM3-3jnkV",
        "colab_type": "code",
        "outputId": "8ffdda84-3adb-4a2a-dbc6-c7bf58ec46bc",
        "colab": {
          "base_uri": "https://localhost:8080/",
          "height": 292
        }
      },
      "source": [
        "!pip install numpy==1.16.1\n",
        "import numpy as np\n",
        "import pandas as pd\n",
        "import matplotlib.pyplot as plt"
      ],
      "execution_count": 3,
      "outputs": [
        {
          "output_type": "stream",
          "text": [
            "Collecting numpy==1.16.1\n",
            "\u001b[?25l  Downloading https://files.pythonhosted.org/packages/f5/bf/4981bcbee43934f0adb8f764a1e70ab0ee5a448f6505bd04a87a2fda2a8b/numpy-1.16.1-cp36-cp36m-manylinux1_x86_64.whl (17.3MB)\n",
            "\u001b[K     |████████████████████████████████| 17.3MB 3.5MB/s \n",
            "\u001b[31mERROR: datascience 0.10.6 has requirement folium==0.2.1, but you'll have folium 0.8.3 which is incompatible.\u001b[0m\n",
            "\u001b[31mERROR: albumentations 0.1.12 has requirement imgaug<0.2.7,>=0.2.5, but you'll have imgaug 0.2.9 which is incompatible.\u001b[0m\n",
            "\u001b[?25hInstalling collected packages: numpy\n",
            "  Found existing installation: numpy 1.16.5\n",
            "    Uninstalling numpy-1.16.5:\n",
            "      Successfully uninstalled numpy-1.16.5\n",
            "Successfully installed numpy-1.16.1\n"
          ],
          "name": "stdout"
        },
        {
          "output_type": "display_data",
          "data": {
            "application/vnd.colab-display-data+json": {
              "pip_warning": {
                "packages": [
                  "numpy"
                ]
              }
            }
          },
          "metadata": {
            "tags": []
          }
        }
      ]
    },
    {
      "cell_type": "code",
      "metadata": {
        "id": "w-Lzi3RIjttT",
        "colab_type": "code",
        "colab": {}
      },
      "source": [
        "from sklearn.neighbors import KNeighborsClassifier\n",
        "from sklearn.metrics import accuracy_score\n",
        "from sklearn import model_selection\n",
        "from sklearn.model_selection import cross_val_score\n",
        "from collections import Counter\n",
        "from tqdm import tqdm"
      ],
      "execution_count": 0,
      "outputs": []
    },
    {
      "cell_type": "code",
      "metadata": {
        "id": "IJK7sJPWkJf0",
        "colab_type": "code",
        "colab": {}
      },
      "source": [
        "x_train_cv = np.load('x_train_cv.npy')\n",
        "x_test_cv =  np.load('x_test_cv.npy')\n",
        "x_train_tfidf = np.load('x_train_tfidf.npy')\n",
        "x_test_tfidf = np.load('x_test_tfidf.npy')\n",
        "y_train = np.load('y_train.npy')\n",
        "y_test = np.load('y_test.npy')"
      ],
      "execution_count": 0,
      "outputs": []
    },
    {
      "cell_type": "code",
      "metadata": {
        "id": "_0LHrxp97rU9",
        "colab_type": "code",
        "outputId": "7822c922-197f-4ec0-a89b-9819f355c552",
        "colab": {
          "base_uri": "https://localhost:8080/",
          "height": 34
        }
      },
      "source": [
        "np.unique(y_train, return_counts=True)"
      ],
      "execution_count": 6,
      "outputs": [
        {
          "output_type": "execute_result",
          "data": {
            "text/plain": [
              "(array([0., 1.]), array([3772, 3728]))"
            ]
          },
          "metadata": {
            "tags": []
          },
          "execution_count": 6
        }
      ]
    },
    {
      "cell_type": "code",
      "metadata": {
        "id": "fqiN1ypKmSs3",
        "colab_type": "code",
        "colab": {}
      },
      "source": [
        "neighbors = list(range(1,40,2))\n",
        "cv_scores = []"
      ],
      "execution_count": 0,
      "outputs": []
    },
    {
      "cell_type": "markdown",
      "metadata": {
        "id": "jYsdnS75jkdF",
        "colab_type": "text"
      },
      "source": [
        "## BoW approach"
      ]
    },
    {
      "cell_type": "code",
      "metadata": {
        "id": "nKzD0fQVka0d",
        "colab_type": "code",
        "outputId": "65028bbf-3b67-424e-cf85-b1bcacb0eac4",
        "colab": {
          "base_uri": "https://localhost:8080/",
          "height": 357
        }
      },
      "source": [
        "for k in neighbors:\n",
        "  knn = KNeighborsClassifier(n_neighbors=k, algorithm = \"brute\")\n",
        "  scores = cross_val_score(knn, x_train_cv, y_train, cv=10, scoring='accuracy')\n",
        "  print(scores.mean())\n",
        "  cv_scores.append(scores.mean())"
      ],
      "execution_count": 8,
      "outputs": [
        {
          "output_type": "stream",
          "text": [
            "0.6225371432364029\n",
            "0.6145376787040214\n",
            "0.6033426489054499\n",
            "0.6021417583557186\n",
            "0.6010765139138026\n",
            "0.6033446009089202\n",
            "0.6138832756443419\n",
            "0.6237479936260627\n",
            "0.6336143161143397\n",
            "0.6448120095028317\n",
            "0.6498790383627349\n",
            "0.656414691107599\n",
            "0.6553464232529007\n",
            "0.6593451790432813\n",
            "0.6594760239573759\n",
            "0.6613430466543051\n",
            "0.6612098908620283\n",
            "0.6614785137988395\n",
            "0.6596127334152297\n",
            "0.6628114929982097\n"
          ],
          "name": "stdout"
        }
      ]
    },
    {
      "cell_type": "code",
      "metadata": {
        "id": "P8NRYlf1mi0q",
        "colab_type": "code",
        "colab": {}
      },
      "source": [
        "optimal_k_bow = neighbors[cv_scores.index(max(cv_scores))]"
      ],
      "execution_count": 0,
      "outputs": []
    },
    {
      "cell_type": "code",
      "metadata": {
        "id": "Ddv276TFwYbI",
        "colab_type": "code",
        "outputId": "8a3fa87d-560b-418d-ab82-dacc649df50d",
        "colab": {
          "base_uri": "https://localhost:8080/",
          "height": 34
        }
      },
      "source": [
        "optimal_k_bow"
      ],
      "execution_count": 10,
      "outputs": [
        {
          "output_type": "execute_result",
          "data": {
            "text/plain": [
              "39"
            ]
          },
          "metadata": {
            "tags": []
          },
          "execution_count": 10
        }
      ]
    },
    {
      "cell_type": "code",
      "metadata": {
        "id": "MMMj8NvTwaBm",
        "colab_type": "code",
        "colab": {}
      },
      "source": [
        "knn_optimal = KNeighborsClassifier(n_neighbors=optimal_k_bow)\n",
        "# fitting the model\n",
        "knn_optimal.fit(x_train_cv, y_train)\n",
        "# predict the response\n",
        "y_pred_cv = knn_optimal.predict(x_test_cv)\n"
      ],
      "execution_count": 0,
      "outputs": []
    },
    {
      "cell_type": "code",
      "metadata": {
        "id": "_xuyKCYwww4o",
        "colab_type": "code",
        "outputId": "e84a8abe-f185-454b-99ce-493c1e188459",
        "colab": {
          "base_uri": "https://localhost:8080/",
          "height": 34
        }
      },
      "source": [
        "# Accuracy on train data\n",
        "train_acc_bow = knn_optimal.score(x_train_cv, y_train)\n",
        "print(\"Train accuracy\", train_acc_bow)"
      ],
      "execution_count": 12,
      "outputs": [
        {
          "output_type": "stream",
          "text": [
            "Train accuracy 0.6868\n"
          ],
          "name": "stdout"
        }
      ]
    },
    {
      "cell_type": "code",
      "metadata": {
        "id": "pHywoElVxVHP",
        "colab_type": "code",
        "outputId": "61d3b0b2-30ac-4b12-bfc5-4bcfb115875e",
        "colab": {
          "base_uri": "https://localhost:8080/",
          "height": 51
        }
      },
      "source": [
        "# evaluate accuracy on test data\n",
        "acc_bow = accuracy_score(y_test, y_pred_cv)\n",
        "print('\\nThe accuracy of the knn classifier for k = %d is %.3f' % (optimal_k_bow, acc_bow))"
      ],
      "execution_count": 13,
      "outputs": [
        {
          "output_type": "stream",
          "text": [
            "\n",
            "The accuracy of the knn classifier for k = 39 is 0.660\n"
          ],
          "name": "stdout"
        }
      ]
    },
    {
      "cell_type": "code",
      "metadata": {
        "id": "Wl5us3GW7S5H",
        "colab_type": "code",
        "outputId": "512a0cbe-4597-43b2-90f9-35cf4ab2c292",
        "colab": {
          "base_uri": "https://localhost:8080/",
          "height": 295
        }
      },
      "source": [
        "\n",
        "# plot confusion matrix to describe the performance of classifier.\n",
        "import seaborn as sns\n",
        "# Confusion Matrix\n",
        "from sklearn.metrics import confusion_matrix\n",
        "cm = confusion_matrix(y_test, y_pred_cv)\n",
        "class_label = [\"negative\", \"positive\"]\n",
        "df_cm = pd.DataFrame(cm, index = class_label, columns = class_label)\n",
        "sns.heatmap(df_cm, annot = True, fmt = \"d\")\n",
        "plt.title(\"Confusion Matrix\")\n",
        "plt.xlabel(\"Predicted Label\")\n",
        "plt.ylabel(\"Actual Label\")\n",
        "plt.show()"
      ],
      "execution_count": 14,
      "outputs": [
        {
          "output_type": "display_data",
          "data": {
            "image/png": "[encoded data removed]",
            "text/plain": [
              "<Figure size 432x288 with 2 Axes>"
            ]
          },
          "metadata": {
            "tags": []
          }
        }
      ]
    },
    {
      "cell_type": "code",
      "metadata": {
        "id": "CM9VFyxM8ISq",
        "colab_type": "code",
        "outputId": "8b73106f-2614-4484-c814-463883c3ebe4",
        "colab": {
          "base_uri": "https://localhost:8080/",
          "height": 170
        }
      },
      "source": [
        "\n",
        "# To show main classification report\n",
        "from sklearn.metrics import classification_report\n",
        "print(classification_report(y_test, y_pred_cv))"
      ],
      "execution_count": 15,
      "outputs": [
        {
          "output_type": "stream",
          "text": [
            "              precision    recall  f1-score   support\n",
            "\n",
            "         0.0       0.79      0.42      0.55      1228\n",
            "         1.0       0.62      0.89      0.73      1272\n",
            "\n",
            "    accuracy                           0.66      2500\n",
            "   macro avg       0.70      0.66      0.64      2500\n",
            "weighted avg       0.70      0.66      0.64      2500\n",
            "\n"
          ],
          "name": "stdout"
        }
      ]
    },
    {
      "cell_type": "code",
      "metadata": {
        "id": "Nd0woacCgZM7",
        "colab_type": "code",
        "colab": {}
      },
      "source": [
        "from sklearn.metrics import roc_curve,auc"
      ],
      "execution_count": 0,
      "outputs": []
    },
    {
      "cell_type": "code",
      "metadata": {
        "id": "JmDRkFKAgaDr",
        "colab_type": "code",
        "colab": {}
      },
      "source": [
        "fpr, tpr, threshold = roc_curve(y_test,y_pred_cv,pos_label=1)"
      ],
      "execution_count": 0,
      "outputs": []
    },
    {
      "cell_type": "code",
      "metadata": {
        "id": "o1aTvmWYgctd",
        "colab_type": "code",
        "colab": {
          "base_uri": "https://localhost:8080/",
          "height": 34
        },
        "outputId": "76c07e23-a900-493f-9d26-d29c73ca9ccf"
      },
      "source": [
        "roc_auc = auc(fpr, tpr)\n",
        "roc_auc"
      ],
      "execution_count": 29,
      "outputs": [
        {
          "output_type": "execute_result",
          "data": {
            "text/plain": [
              "0.6563018560629341"
            ]
          },
          "metadata": {
            "tags": []
          },
          "execution_count": 29
        }
      ]
    },
    {
      "cell_type": "code",
      "metadata": {
        "id": "kHTXliwmgtYG",
        "colab_type": "code",
        "colab": {
          "base_uri": "https://localhost:8080/",
          "height": 295
        },
        "outputId": "79312e9d-8228-4c59-dad7-c15a3201157a"
      },
      "source": [
        "\n",
        "plt.title('Receiver Operating Characteristic')\n",
        "plt.plot(fpr, tpr, 'b', label = 'AUC = %0.2f' % roc_auc)\n",
        "plt.legend(loc = 'lower right')\n",
        "plt.plot([0, 1], [0, 1],'r--')\n",
        "plt.xlim([0, 1])\n",
        "plt.ylim([0, 1])\n",
        "plt.ylabel('True Positive Rate')\n",
        "plt.xlabel('False Positive Rate')\n",
        "plt.show()\n"
      ],
      "execution_count": 30,
      "outputs": [
        {
          "output_type": "display_data",
          "data": {
            "image/png": "[encoded data removed]",
            "text/plain": [
              "<Figure size 432x288 with 1 Axes>"
            ]
          },
          "metadata": {
            "tags": []
          }
        }
      ]
    },
    {
      "cell_type": "markdown",
      "metadata": {
        "id": "Hx4H2KEHjp_A",
        "colab_type": "text"
      },
      "source": [
        "## Tf-Idf vectorizer"
      ]
    },
    {
      "cell_type": "code",
      "metadata": {
        "id": "R7gqYuLpyK27",
        "colab_type": "code",
        "outputId": "6eccac90-3e8d-43d7-c323-59ae25b2d3ff",
        "colab": {
          "base_uri": "https://localhost:8080/",
          "height": 357
        }
      },
      "source": [
        "neighbors = list(range(1,40,2))\n",
        "cv_scores = []\n",
        "\n",
        "for k in neighbors:\n",
        "  knn = KNeighborsClassifier(n_neighbors=k, algorithm = \"brute\")\n",
        "  scores = cross_val_score(knn, x_train_tfidf, y_train, cv=10, scoring='accuracy')\n",
        "  print(scores.mean())\n",
        "  cv_scores.append(scores.mean())"
      ],
      "execution_count": 16,
      "outputs": [
        {
          "output_type": "stream",
          "text": [
            "0.5041320910200136\n",
            "0.49973333238518347\n",
            "0.49773315389597733\n",
            "0.5053327978657147\n",
            "0.5320106785375025\n",
            "0.5830738308868104\n",
            "0.6156013191134562\n",
            "0.6380018697514722\n",
            "0.6608022428484318\n",
            "0.6745363019904628\n",
            "0.6826676847425506\n",
            "0.6865345336910229\n",
            "0.6963997866662874\n",
            "0.7030652129159342\n",
            "0.704665213390009\n",
            "0.7109324212131933\n",
            "0.7165315335079114\n",
            "0.7207987370644214\n",
            "0.7246638077578804\n",
            "0.7259989183980772\n"
          ],
          "name": "stdout"
        }
      ]
    },
    {
      "cell_type": "code",
      "metadata": {
        "id": "VshLbNlb1rZ2",
        "colab_type": "code",
        "colab": {}
      },
      "source": [
        "optimal_k_bow = neighbors[cv_scores.index(max(cv_scores))]"
      ],
      "execution_count": 0,
      "outputs": []
    },
    {
      "cell_type": "code",
      "metadata": {
        "id": "p5RyYSiy1u8g",
        "colab_type": "code",
        "outputId": "4fe3b7c1-0c47-46ef-fa4b-0e52b76d44cc",
        "colab": {
          "base_uri": "https://localhost:8080/",
          "height": 34
        }
      },
      "source": [
        "optimal_k_bow"
      ],
      "execution_count": 18,
      "outputs": [
        {
          "output_type": "execute_result",
          "data": {
            "text/plain": [
              "39"
            ]
          },
          "metadata": {
            "tags": []
          },
          "execution_count": 18
        }
      ]
    },
    {
      "cell_type": "code",
      "metadata": {
        "id": "6MeJo_f816Mo",
        "colab_type": "code",
        "colab": {}
      },
      "source": [
        "knn_optimal = KNeighborsClassifier(n_neighbors=optimal_k_bow)\n",
        "# fitting the model\n",
        "knn_optimal.fit(x_train_tfidf, y_train)\n",
        "# predict the response\n",
        "y_pred_tfidf = knn_optimal.predict(x_test_tfidf)\n"
      ],
      "execution_count": 0,
      "outputs": []
    },
    {
      "cell_type": "code",
      "metadata": {
        "id": "BF60dMKR1-cZ",
        "colab_type": "code",
        "outputId": "270672b8-aec8-4213-c5a1-9914afcc29ea",
        "colab": {
          "base_uri": "https://localhost:8080/",
          "height": 34
        }
      },
      "source": [
        "# Accuracy on train data\n",
        "train_acc_bow = knn_optimal.score(x_train_tfidf, y_train)\n",
        "print(\"Train accuracy\", train_acc_bow)"
      ],
      "execution_count": 20,
      "outputs": [
        {
          "output_type": "stream",
          "text": [
            "Train accuracy 0.7450666666666667\n"
          ],
          "name": "stdout"
        }
      ]
    },
    {
      "cell_type": "code",
      "metadata": {
        "id": "-6j6nbiK2DV2",
        "colab_type": "code",
        "outputId": "325179f9-628d-4237-fff0-ae5c7dda0a65",
        "colab": {
          "base_uri": "https://localhost:8080/",
          "height": 51
        }
      },
      "source": [
        "# evaluate accuracy on test data\n",
        "acc_bow = accuracy_score(y_test, y_pred_tfidf)\n",
        "print('\\nThe accuracy of the knn classifier for k = %d is %.3f' % (optimal_k_bow, acc_bow))"
      ],
      "execution_count": 21,
      "outputs": [
        {
          "output_type": "stream",
          "text": [
            "\n",
            "The accuracy of the knn classifier for k = 39 is 0.735\n"
          ],
          "name": "stdout"
        }
      ]
    },
    {
      "cell_type": "code",
      "metadata": {
        "id": "Z-t2GY3Y7IZa",
        "colab_type": "code",
        "outputId": "4b55ec81-1562-441a-bd14-619b8e9423f9",
        "colab": {
          "base_uri": "https://localhost:8080/",
          "height": 295
        }
      },
      "source": [
        "\n",
        "cm = confusion_matrix(y_test, y_pred_tfidf)\n",
        "class_label = [\"negative\", \"positive\"]\n",
        "df_cm = pd.DataFrame(cm, index = class_label, columns = class_label)\n",
        "sns.heatmap(df_cm, annot = True, fmt = \"d\")\n",
        "plt.title(\"Confusion Matrix\")\n",
        "plt.xlabel(\"Predicted Label\")\n",
        "plt.ylabel(\"Actual Label\")\n",
        "plt.show()"
      ],
      "execution_count": 22,
      "outputs": [
        {
          "output_type": "display_data",
          "data": {
            "image/png": "[encoded data removed]",
            "text/plain": [
              "<Figure size 432x288 with 2 Axes>"
            ]
          },
          "metadata": {
            "tags": []
          }
        }
      ]
    },
    {
      "cell_type": "code",
      "metadata": {
        "id": "DHoL9TP87vPp",
        "colab_type": "code",
        "outputId": "83a226de-954d-4303-d650-cf5bbeff7de8",
        "colab": {
          "base_uri": "https://localhost:8080/",
          "height": 170
        }
      },
      "source": [
        "\n",
        "# To show main classification report\n",
        "from sklearn.metrics import classification_report\n",
        "print(classification_report(y_test, y_pred_tfidf))"
      ],
      "execution_count": 23,
      "outputs": [
        {
          "output_type": "stream",
          "text": [
            "              precision    recall  f1-score   support\n",
            "\n",
            "         0.0       0.84      0.57      0.68      1228\n",
            "         1.0       0.68      0.90      0.78      1272\n",
            "\n",
            "    accuracy                           0.74      2500\n",
            "   macro avg       0.76      0.73      0.73      2500\n",
            "weighted avg       0.76      0.74      0.73      2500\n",
            "\n"
          ],
          "name": "stdout"
        }
      ]
    },
    {
      "cell_type": "code",
      "metadata": {
        "id": "DozYvKfi8QFt",
        "colab_type": "code",
        "colab": {}
      },
      "source": [
        "fpr, tpr, threshold = roc_curve(y_test,y_pred_tfidf,pos_label=1)"
      ],
      "execution_count": 0,
      "outputs": []
    },
    {
      "cell_type": "code",
      "metadata": {
        "id": "f7stci_Ig3u8",
        "colab_type": "code",
        "colab": {
          "base_uri": "https://localhost:8080/",
          "height": 34
        },
        "outputId": "d6e49e64-6414-40b6-e2db-01bd5d80488e"
      },
      "source": [
        "roc_auc = auc(fpr, tpr)\n",
        "roc_auc"
      ],
      "execution_count": 32,
      "outputs": [
        {
          "output_type": "execute_result",
          "data": {
            "text/plain": [
              "0.7323010775817917"
            ]
          },
          "metadata": {
            "tags": []
          },
          "execution_count": 32
        }
      ]
    },
    {
      "cell_type": "code",
      "metadata": {
        "id": "vijEXM_Kg7OT",
        "colab_type": "code",
        "colab": {
          "base_uri": "https://localhost:8080/",
          "height": 295
        },
        "outputId": "d070dc24-8d7a-49f6-c138-06d9930e138b"
      },
      "source": [
        "\n",
        "plt.title('Receiver Operating Characteristic')\n",
        "plt.plot(fpr, tpr, 'b', label = 'AUC = %0.2f' % roc_auc)\n",
        "plt.legend(loc = 'lower right')\n",
        "plt.plot([0, 1], [0, 1],'r--')\n",
        "plt.xlim([0, 1])\n",
        "plt.ylim([0, 1])\n",
        "plt.ylabel('True Positive Rate')\n",
        "plt.xlabel('False Positive Rate')\n",
        "plt.show()\n"
      ],
      "execution_count": 33,
      "outputs": [
        {
          "output_type": "display_data",
          "data": {
            "image/png": "[encoded data removed]",
            "text/plain": [
              "<Figure size 432x288 with 1 Axes>"
            ]
          },
          "metadata": {
            "tags": []
          }
        }
      ]
    },
    {
      "cell_type": "code",
      "metadata": {
        "id": "wYeBEtSVg9bR",
        "colab_type": "code",
        "colab": {}
      },
      "source": [
        "x_train_w2v_av = np.load('x_train_w2v_av.npy')\n",
        "x_test_w2v_av =  np.load('x_test_w2v_av.npy')\n",
        "x_train_w2v_tf = np.load('x_train_w2v_tf.npy')\n",
        "x_test_w2v_tf = np.load('x_test_w2v_tf.npy')\n"
      ],
      "execution_count": 0,
      "outputs": []
    },
    {
      "cell_type": "markdown",
      "metadata": {
        "id": "gUil0-cnjz8Q",
        "colab_type": "text"
      },
      "source": [
        "## Avg Word2Vec"
      ]
    },
    {
      "cell_type": "code",
      "metadata": {
        "id": "bOoCCrUyhReD",
        "colab_type": "code",
        "colab": {
          "base_uri": "https://localhost:8080/",
          "height": 357
        },
        "outputId": "786ec388-16b9-4dfb-c025-05b9243e6691"
      },
      "source": [
        "neighbors = list(range(1,40,2))\n",
        "cv_scores = []\n",
        "\n",
        "for k in neighbors:\n",
        "  knn = KNeighborsClassifier(n_neighbors=k, algorithm = \"brute\")\n",
        "  scores = cross_val_score(knn, x_train_w2v_av, y_train, cv=10, scoring='accuracy')\n",
        "  print(scores.mean())\n",
        "  cv_scores.append(scores.mean())"
      ],
      "execution_count": 35,
      "outputs": [
        {
          "output_type": "stream",
          "text": [
            "0.6959988913758068\n",
            "0.7294630980677299\n",
            "0.747731911819695\n",
            "0.7563953832214221\n",
            "0.7615978787517845\n",
            "0.7625299688236483\n",
            "0.7655973475508402\n",
            "0.7629301435202551\n",
            "0.764663299786607\n",
            "0.7677321021607741\n",
            "0.7703980596113653\n",
            "0.7694682818399086\n",
            "0.7689319279382423\n",
            "0.7697299721421728\n",
            "0.7702636600835439\n",
            "0.7711964598455582\n",
            "0.7735959281705389\n",
            "0.7743957534739321\n",
            "0.7751946882275939\n",
            "0.7743939737966942\n"
          ],
          "name": "stdout"
        }
      ]
    },
    {
      "cell_type": "code",
      "metadata": {
        "id": "Chov0EyZhnwY",
        "colab_type": "code",
        "colab": {}
      },
      "source": [
        "optimal_k_bow = neighbors[cv_scores.index(max(cv_scores))]"
      ],
      "execution_count": 0,
      "outputs": []
    },
    {
      "cell_type": "code",
      "metadata": {
        "id": "p29vt8RShs9t",
        "colab_type": "code",
        "colab": {
          "base_uri": "https://localhost:8080/",
          "height": 34
        },
        "outputId": "c0a0179b-af34-4a62-ca57-6b09e64ed8d9"
      },
      "source": [
        "optimal_k_bow"
      ],
      "execution_count": 37,
      "outputs": [
        {
          "output_type": "execute_result",
          "data": {
            "text/plain": [
              "37"
            ]
          },
          "metadata": {
            "tags": []
          },
          "execution_count": 37
        }
      ]
    },
    {
      "cell_type": "code",
      "metadata": {
        "id": "ucPV5d1nhuYk",
        "colab_type": "code",
        "colab": {}
      },
      "source": [
        "knn_optimal = KNeighborsClassifier(n_neighbors=optimal_k_bow)\n",
        "# fitting the model\n",
        "knn_optimal.fit(x_train_w2v_av, y_train)\n",
        "# predict the response\n",
        "y_pred_w2v_av = knn_optimal.predict(x_test_w2v_av)\n"
      ],
      "execution_count": 0,
      "outputs": []
    },
    {
      "cell_type": "code",
      "metadata": {
        "id": "Q7sQCstIh6Oj",
        "colab_type": "code",
        "colab": {
          "base_uri": "https://localhost:8080/",
          "height": 34
        },
        "outputId": "d5ec6096-5288-4f66-fad4-eff54d07588e"
      },
      "source": [
        "# Accuracy on train data\n",
        "train_acc_bow = knn_optimal.score(x_train_w2v_av, y_train)\n",
        "print(\"Train accuracy\", train_acc_bow)"
      ],
      "execution_count": 43,
      "outputs": [
        {
          "output_type": "stream",
          "text": [
            "Train accuracy 0.7917333333333333\n"
          ],
          "name": "stdout"
        }
      ]
    },
    {
      "cell_type": "code",
      "metadata": {
        "id": "YMI4gIFOh_Ug",
        "colab_type": "code",
        "colab": {
          "base_uri": "https://localhost:8080/",
          "height": 51
        },
        "outputId": "d143c0ed-ec05-4be7-ecad-891c1332d05a"
      },
      "source": [
        "# evaluate accuracy on test data\n",
        "acc_bow = accuracy_score(y_test, y_pred_w2v_av )\n",
        "print('\\nThe accuracy of the knn classifier for k = %d is %.3f' % (optimal_k_bow, acc_bow))"
      ],
      "execution_count": 44,
      "outputs": [
        {
          "output_type": "stream",
          "text": [
            "\n",
            "The accuracy of the knn classifier for k = 37 is 0.768\n"
          ],
          "name": "stdout"
        }
      ]
    },
    {
      "cell_type": "code",
      "metadata": {
        "id": "uiKLePK2iFrL",
        "colab_type": "code",
        "colab": {
          "base_uri": "https://localhost:8080/",
          "height": 295
        },
        "outputId": "8ba2443b-311c-4d87-cff7-b7fd01152b3e"
      },
      "source": [
        "\n",
        "cm = confusion_matrix(y_test, y_pred_w2v_av)\n",
        "class_label = [\"negative\", \"positive\"]\n",
        "df_cm = pd.DataFrame(cm, index = class_label, columns = class_label)\n",
        "sns.heatmap(df_cm, annot = True, fmt = \"d\")\n",
        "plt.title(\"Confusion Matrix\")\n",
        "plt.xlabel(\"Predicted Label\")\n",
        "plt.ylabel(\"Actual Label\")\n",
        "plt.show()"
      ],
      "execution_count": 45,
      "outputs": [
        {
          "output_type": "display_data",
          "data": {
            "image/png": "[encoded data removed]",
            "text/plain": [
              "<Figure size 432x288 with 2 Axes>"
            ]
          },
          "metadata": {
            "tags": []
          }
        }
      ]
    },
    {
      "cell_type": "code",
      "metadata": {
        "id": "bbsH52j7iWdH",
        "colab_type": "code",
        "colab": {
          "base_uri": "https://localhost:8080/",
          "height": 170
        },
        "outputId": "c2321e99-8996-47db-e2d9-bcca72ea65ce"
      },
      "source": [
        "\n",
        "# To show main classification report\n",
        "from sklearn.metrics import classification_report\n",
        "print(classification_report(y_test, y_pred_w2v_av))"
      ],
      "execution_count": 46,
      "outputs": [
        {
          "output_type": "stream",
          "text": [
            "              precision    recall  f1-score   support\n",
            "\n",
            "         0.0       0.73      0.83      0.78      1228\n",
            "         1.0       0.81      0.70      0.75      1272\n",
            "\n",
            "    accuracy                           0.77      2500\n",
            "   macro avg       0.77      0.77      0.77      2500\n",
            "weighted avg       0.77      0.77      0.77      2500\n",
            "\n"
          ],
          "name": "stdout"
        }
      ]
    },
    {
      "cell_type": "code",
      "metadata": {
        "id": "oMxTxYepic3r",
        "colab_type": "code",
        "colab": {
          "base_uri": "https://localhost:8080/",
          "height": 34
        },
        "outputId": "2e06882b-744b-4a1a-f169-2e5daef660c7"
      },
      "source": [
        "fpr, tpr, threshold = roc_curve(y_test,y_pred_w2v_av,pos_label=1)\n",
        "roc_auc = auc(fpr, tpr)\n",
        "roc_auc"
      ],
      "execution_count": 48,
      "outputs": [
        {
          "output_type": "execute_result",
          "data": {
            "text/plain": [
              "0.7687462868498146"
            ]
          },
          "metadata": {
            "tags": []
          },
          "execution_count": 48
        }
      ]
    },
    {
      "cell_type": "code",
      "metadata": {
        "id": "yNtEMZnWiq36",
        "colab_type": "code",
        "colab": {
          "base_uri": "https://localhost:8080/",
          "height": 295
        },
        "outputId": "4adbd9e7-3492-490f-83ec-f9ff19b9a92d"
      },
      "source": [
        "\n",
        "plt.title('Receiver Operating Characteristic')\n",
        "plt.plot(fpr, tpr, 'b', label = 'AUC = %0.2f' % roc_auc)\n",
        "plt.legend(loc = 'lower right')\n",
        "plt.plot([0, 1], [0, 1],'r--')\n",
        "plt.xlim([0, 1])\n",
        "plt.ylim([0, 1])\n",
        "plt.ylabel('True Positive Rate')\n",
        "plt.xlabel('False Positive Rate')\n",
        "plt.show()\n"
      ],
      "execution_count": 49,
      "outputs": [
        {
          "output_type": "display_data",
          "data": {
            "image/png": "[encoded data removed]",
            "text/plain": [
              "<Figure size 432x288 with 1 Axes>"
            ]
          },
          "metadata": {
            "tags": []
          }
        }
      ]
    },
    {
      "cell_type": "markdown",
      "metadata": {
        "id": "BiTUfVvUj4n8",
        "colab_type": "text"
      },
      "source": [
        "## Tf-Idf weighted Word2Vec"
      ]
    },
    {
      "cell_type": "code",
      "metadata": {
        "id": "9C599cQuirKh",
        "colab_type": "code",
        "colab": {
          "base_uri": "https://localhost:8080/",
          "height": 357
        },
        "outputId": "c632821f-acd3-419a-d4b8-e3f3dde3ac3e"
      },
      "source": [
        "neighbors = list(range(1,40,2))\n",
        "cv_scores = []\n",
        "\n",
        "for k in neighbors:\n",
        "  knn = KNeighborsClassifier(n_neighbors=k, algorithm = \"brute\")\n",
        "  scores = cross_val_score(knn, x_train_w2v_tf, y_train, cv=10, scoring='accuracy')\n",
        "  print(scores.mean())\n",
        "  cv_scores.append(scores.mean())"
      ],
      "execution_count": 50,
      "outputs": [
        {
          "output_type": "stream",
          "text": [
            "0.6417377014596174\n",
            "0.6710712289266292\n",
            "0.6897400441008192\n",
            "0.6964072509758535\n",
            "0.7042724982622192\n",
            "0.7049359658713467\n",
            "0.7120037077399248\n",
            "0.7100045978155813\n",
            "0.710535796389564\n",
            "0.7086684152919975\n",
            "0.7094661039397404\n",
            "0.7092035235618196\n",
            "0.7116013911728436\n",
            "0.711201573928724\n",
            "0.7110687732185599\n",
            "0.7080017457808814\n",
            "0.7117372181402397\n",
            "0.7149382843347277\n",
            "0.7136045959192816\n",
            "0.7153368635322018\n"
          ],
          "name": "stdout"
        }
      ]
    },
    {
      "cell_type": "code",
      "metadata": {
        "id": "GEEmO-DUi4BX",
        "colab_type": "code",
        "colab": {}
      },
      "source": [
        "optimal_k_bow = neighbors[cv_scores.index(max(cv_scores))]"
      ],
      "execution_count": 0,
      "outputs": []
    },
    {
      "cell_type": "code",
      "metadata": {
        "id": "7_BmuWdPi7ST",
        "colab_type": "code",
        "colab": {
          "base_uri": "https://localhost:8080/",
          "height": 34
        },
        "outputId": "050fe292-ecf8-4b80-8089-9f401cc7295e"
      },
      "source": [
        "optimal_k_bow"
      ],
      "execution_count": 52,
      "outputs": [
        {
          "output_type": "execute_result",
          "data": {
            "text/plain": [
              "39"
            ]
          },
          "metadata": {
            "tags": []
          },
          "execution_count": 52
        }
      ]
    },
    {
      "cell_type": "code",
      "metadata": {
        "id": "zAYbHWLVi80y",
        "colab_type": "code",
        "colab": {}
      },
      "source": [
        "knn_optimal = KNeighborsClassifier(n_neighbors=optimal_k_bow)\n",
        "# fitting the model\n",
        "knn_optimal.fit(x_train_w2v_tf, y_train)\n",
        "# predict the response\n",
        "y_pred_w2v_tf = knn_optimal.predict(x_test_w2v_tf)\n"
      ],
      "execution_count": 0,
      "outputs": []
    },
    {
      "cell_type": "code",
      "metadata": {
        "id": "0sQdB-7_jJsw",
        "colab_type": "code",
        "colab": {
          "base_uri": "https://localhost:8080/",
          "height": 34
        },
        "outputId": "62ad4347-24d8-48e7-ab0d-f15f8f0fd9ab"
      },
      "source": [
        "# Accuracy on train data\n",
        "train_acc_bow = knn_optimal.score(x_train_w2v_tf, y_train)\n",
        "print(\"Train accuracy\", train_acc_bow)"
      ],
      "execution_count": 57,
      "outputs": [
        {
          "output_type": "stream",
          "text": [
            "Train accuracy 0.7372\n"
          ],
          "name": "stdout"
        }
      ]
    },
    {
      "cell_type": "code",
      "metadata": {
        "id": "4wDF4BYJjBAM",
        "colab_type": "code",
        "colab": {
          "base_uri": "https://localhost:8080/",
          "height": 51
        },
        "outputId": "ced418ac-2212-4535-cf80-f74e5d1db776"
      },
      "source": [
        "# evaluate accuracy on test data\n",
        "acc_bow = accuracy_score(y_test, y_pred_w2v_tf )\n",
        "print('\\nThe accuracy of the knn classifier for k = %d is %.3f' % (optimal_k_bow, acc_bow))"
      ],
      "execution_count": 56,
      "outputs": [
        {
          "output_type": "stream",
          "text": [
            "\n",
            "The accuracy of the knn classifier for k = 39 is 0.710\n"
          ],
          "name": "stdout"
        }
      ]
    },
    {
      "cell_type": "code",
      "metadata": {
        "id": "fHanzsBhjEs4",
        "colab_type": "code",
        "colab": {
          "base_uri": "https://localhost:8080/",
          "height": 295
        },
        "outputId": "273c8b96-c6db-4b43-eb94-7a310cb9ee6c"
      },
      "source": [
        "\n",
        "cm = confusion_matrix(y_test, y_pred_w2v_tf)\n",
        "class_label = [\"negative\", \"positive\"]\n",
        "df_cm = pd.DataFrame(cm, index = class_label, columns = class_label)\n",
        "sns.heatmap(df_cm, annot = True, fmt = \"d\")\n",
        "plt.title(\"Confusion Matrix\")\n",
        "plt.xlabel(\"Predicted Label\")\n",
        "plt.ylabel(\"Actual Label\")\n",
        "plt.show()"
      ],
      "execution_count": 58,
      "outputs": [
        {
          "output_type": "display_data",
          "data": {
            "image/png": "[encoded data removed]",
            "text/plain": [
              "<Figure size 432x288 with 2 Axes>"
            ]
          },
          "metadata": {
            "tags": []
          }
        }
      ]
    },
    {
      "cell_type": "code",
      "metadata": {
        "id": "dUHCx8lPjRCt",
        "colab_type": "code",
        "colab": {
          "base_uri": "https://localhost:8080/",
          "height": 170
        },
        "outputId": "4b6d6dd2-b9c7-4cd2-de72-e9879550e639"
      },
      "source": [
        "\n",
        "# To show main classification report\n",
        "from sklearn.metrics import classification_report\n",
        "print(classification_report(y_test, y_pred_w2v_tf))"
      ],
      "execution_count": 59,
      "outputs": [
        {
          "output_type": "stream",
          "text": [
            "              precision    recall  f1-score   support\n",
            "\n",
            "         0.0       0.68      0.77      0.72      1228\n",
            "         1.0       0.75      0.65      0.70      1272\n",
            "\n",
            "    accuracy                           0.71      2500\n",
            "   macro avg       0.71      0.71      0.71      2500\n",
            "weighted avg       0.71      0.71      0.71      2500\n",
            "\n"
          ],
          "name": "stdout"
        }
      ]
    },
    {
      "cell_type": "code",
      "metadata": {
        "id": "ArpegkYUjWpr",
        "colab_type": "code",
        "colab": {
          "base_uri": "https://localhost:8080/",
          "height": 34
        },
        "outputId": "c0c26cd9-204f-4b12-c9d0-8277f4bd7312"
      },
      "source": [
        "fpr, tpr, threshold = roc_curve(y_test,y_pred_w2v_tf,pos_label=1)\n",
        "roc_auc = auc(fpr, tpr)\n",
        "roc_auc"
      ],
      "execution_count": 60,
      "outputs": [
        {
          "output_type": "execute_result",
          "data": {
            "text/plain": [
              "0.7110439329686764"
            ]
          },
          "metadata": {
            "tags": []
          },
          "execution_count": 60
        }
      ]
    },
    {
      "cell_type": "code",
      "metadata": {
        "id": "Zn5Pl-e9jaxa",
        "colab_type": "code",
        "colab": {
          "base_uri": "https://localhost:8080/",
          "height": 295
        },
        "outputId": "2431f414-c041-484c-a9b8-f9abf902399b"
      },
      "source": [
        "\n",
        "plt.title('Receiver Operating Characteristic')\n",
        "plt.plot(fpr, tpr, 'b', label = 'AUC = %0.2f' % roc_auc)\n",
        "plt.legend(loc = 'lower right')\n",
        "plt.plot([0, 1], [0, 1],'r--')\n",
        "plt.xlim([0, 1])\n",
        "plt.ylim([0, 1])\n",
        "plt.ylabel('True Positive Rate')\n",
        "plt.xlabel('False Positive Rate')\n",
        "plt.show()\n"
      ],
      "execution_count": 61,
      "outputs": [
        {
          "output_type": "display_data",
          "data": {
            "image/png": "[encoded data removed]",
            "text/plain": [
              "<Figure size 432x288 with 1 Axes>"
            ]
          },
          "metadata": {
            "tags": []
          }
        }
      ]
    },
    {
      "cell_type": "code",
      "metadata": {
        "id": "_YTfm_u4jdUd",
        "colab_type": "code",
        "colab": {}
      },
      "source": [
        ""
      ],
      "execution_count": 0,
      "outputs": []
    }
  ]
}